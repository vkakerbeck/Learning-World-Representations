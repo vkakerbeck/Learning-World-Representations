{
 "cells": [
  {
   "cell_type": "markdown",
   "metadata": {},
   "source": [
    "# Data Analysis for Neural Networks Paper\n",
    "## Preparation\n",
    "### Import Dependencies"
   ]
  },
  {
   "cell_type": "code",
   "execution_count": null,
   "metadata": {
    "ExecuteTime": {
     "end_time": "2020-04-06T07:12:23.164446Z",
     "start_time": "2020-04-06T07:12:12.999159Z"
    }
   },
   "outputs": [],
   "source": [
    "import os\n",
    "import numpy as np;\n",
    "import pandas as pd\n",
    "import matplotlib.pyplot as plt\n",
    "from scipy import misc\n",
    "import seaborn as sns\n",
    "from RL_utils import *\n",
    "from sklearn.cluster import KMeans\n",
    "from sklearn.manifold import TSNE\n",
    "import matplotlib as mpl\n",
    "import matplotlib.patches as mpatches\n",
    "from itertools import combinations\n",
    "from scipy.spatial import distance\n",
    "from scipy.ndimage.filters import gaussian_filter1d"
   ]
  },
  {
   "cell_type": "markdown",
   "metadata": {},
   "source": [
    "### Load Data"
   ]
  },
  {
   "cell_type": "code",
   "execution_count": null,
   "metadata": {
    "ExecuteTime": {
     "end_time": "2020-04-06T07:12:24.772817Z",
     "start_time": "2020-04-06T07:12:23.172262Z"
    }
   },
   "outputs": [],
   "source": [
    "folder_name = '3999_16.100'\n",
    "path = './Results/TowerTraining/'+folder_name+'/'\n",
    "figure_path = './Results/TowerTraining/NNFigures/'\n",
    "\n",
    "obs = np.load(path+'visobs.npy', mmap_mode='r')\n",
    "vec = np.load(path+'vecobs.npy')\n",
    "\n",
    "rew = np.load(path+'rewards.npy')\n",
    "\n",
    "encA = np.load(path+'encodings.npy')\n",
    "encA = encA.reshape(encA.shape[0],encA.shape[-1])[:,:256]\n",
    "#encR = np.load(path+'randenc.npy')[:,:256]#for random activations\n",
    "encAE = np.load(path+'AEAct.npy')\n",
    "encAE = encAE.reshape(encAE.shape[0],encAE.shape[-1])[:,:256]\n",
    "encC = np.load(path+'ClassAct.npy')\n",
    "\n",
    "actionL = np.load(path+'actions.npy')\n",
    "val = np.load(path+'values.npy')\n",
    "outAE = np.load(path+'AEOut.npy')\n",
    "outClass = np.load(path+'ClassOut.npy')\n",
    "\n",
    "doors = np.load(path+'doors.npy')\n",
    "Rewards = np.load(path+'reward_per.npy')\n",
    "\n",
    "hand_l = pd.read_csv(path+'HandLabels.csv')\n",
    "label_test = np.zeros(encA.shape[0])\n",
    "label_test = np.array(hand_l['Label'])"
   ]
  },
  {
   "cell_type": "markdown",
   "metadata": {},
   "source": [
    "### General Functions Needed"
   ]
  },
  {
   "cell_type": "code",
   "execution_count": null,
   "metadata": {
    "ExecuteTime": {
     "end_time": "2020-04-06T07:12:24.820689Z",
     "start_time": "2020-04-06T07:12:24.808532Z"
    }
   },
   "outputs": [],
   "source": [
    "def getClusterVariance(cluster,data,num_cluster):\n",
    "    between_var = np.var(data,axis=0)\n",
    "    within_var = []\n",
    "    for i in range(num_cluster):\n",
    "        which = np.where(cluster==i)\n",
    "        within_var.append(np.var(data[which],axis=0))\n",
    "    b = np.mean(between_var)\n",
    "    w = np.zeros(num_cluster)\n",
    "    for i in range(num_cluster):\n",
    "        w[i] = np.mean(within_var[i])\n",
    "    return between_var, within_var, b, w\n",
    "def getDistances(points):\n",
    "    distances = [distance.euclidean(p1, p2) for p1, p2 in combinations(points, 2)]\n",
    "    return distances\n",
    "def getAcrossD(c1,c2):\n",
    "    comb = [(x,y) for x in c1 for y in c2]\n",
    "    distances = [distance.euclidean(p1, p2) for p1, p2 in comb]\n",
    "    return distances\n",
    "def getCorDistances(points):\n",
    "    distances = [distance.correlation(p1, p2) for p1, p2 in combinations(points, 2)]\n",
    "    return distances\n",
    "def getAcrossCorD(c1,c2):\n",
    "    comb = [(x,y) for x in c1 for y in c2]\n",
    "    distances = [distance.correlation(p1, p2) for p1, p2 in comb]\n",
    "    return distances\n",
    "def where_array_equal(a,b):\n",
    "    equal = np.zeros(a.shape[0])\n",
    "    for i,arr in enumerate(a):\n",
    "        if np.array_equal(arr,b):\n",
    "            equal[i] = 1\n",
    "    return equal"
   ]
  },
  {
   "cell_type": "markdown",
   "metadata": {},
   "source": [
    "### Some Precalculations"
   ]
  },
  {
   "cell_type": "code",
   "execution_count": null,
   "metadata": {
    "ExecuteTime": {
     "end_time": "2020-04-06T07:12:25.124671Z",
     "start_time": "2020-04-06T07:12:24.847427Z"
    }
   },
   "outputs": [],
   "source": [
    "w = where_array_equal(actionL[:,0],np.unique(actionL[:,0],axis=0)[3])\n",
    "\n",
    "combs = np.unique(actionL[:,0],axis=0)\n",
    "a_vec = np.zeros((combs.shape[0],actionL.shape[0]))\n",
    "for i,c in enumerate(combs):\n",
    "    a_vec[i] = where_array_equal(actionL[:,0],c)\n",
    "#print(a_vec.shape)    \n",
    "\n",
    "all_a_comb = np.zeros(actionL.shape[0])\n",
    "for i in range(actionL.shape[0]):\n",
    "    if a_vec[0][i] == 1:\n",
    "        all_a_comb[i] = 0#[1, 0, 0, 1] Forward, Turn right\n",
    "    elif a_vec[3][i] == 1:\n",
    "        all_a_comb[i] = 1#[1, 1, 0, 1] Forward, Camera Left, Turn Right\n",
    "    elif a_vec[4][i] == 1:\n",
    "        all_a_comb[i] = 2#[1, 1, 0, 2] Forward, Camera Left, Turn Left\n",
    "    elif a_vec[6][i] == 1:\n",
    "        all_a_comb[i] = 3#[1, 2, 0, 1] Forward, Camera Right, Turn Right\n",
    "    elif a_vec[13][i] == 1:\n",
    "        all_a_comb[i] = 4#[2, 2, 0, 1] Backward, Camera Right, Turn Right\n",
    "    else:\n",
    "        all_a_comb[i] = 5#Anything else\n",
    "actions = ['Forward, Turn Right','Forward, Camera Left, Turn Right','Forward, Camera Left, Turn Left',\n",
    "           'Forward, Camera Right, Turn Right','Backward, Camera Right, Turn Right','Everything Else']"
   ]
  },
  {
   "cell_type": "markdown",
   "metadata": {},
   "source": [
    "## Analysis of Activation Patterns\n",
    "### Sparseness of Activations"
   ]
  },
  {
   "cell_type": "code",
   "execution_count": null,
   "metadata": {
    "ExecuteTime": {
     "end_time": "2020-04-06T07:12:48.911234Z",
     "start_time": "2020-04-06T07:12:48.305863Z"
    }
   },
   "outputs": [],
   "source": [
    "perActA = np.sum((encA)>0,axis=0)/encA.shape[0]\n",
    "perActAE = np.sum((encAE)>0,axis=0)/encAE.shape[0]\n",
    "perActC = np.sum((encC)>0,axis=0)/encC.shape[0]\n",
    "fig = plt.figure(figsize=(5,5))\n",
    "ax1 = fig.add_subplot(3, 1, 1)\n",
    "im2 = plt.imshow(perActA.reshape(8,32), vmin=0, vmax=1)\n",
    "plt.title('Embodied Agent',fontsize=15)\n",
    "plt.axis('off')\n",
    "ax2 = fig.add_subplot(3, 1, 2)\n",
    "im1 = plt.imshow(perActAE.reshape(8,32), vmin=0, vmax=1)\n",
    "plt.title('Autoencoder',fontsize=15)\n",
    "plt.axis('off')\n",
    "ax3 = fig.add_subplot(3, 1, 3)\n",
    "im3 = plt.imshow(perActC.reshape(8,32), vmin=0, vmax=1)\n",
    "plt.title('Classifier',fontsize=15)\n",
    "plt.axis('off')\n",
    "#plt.suptitle('Visual Encoding',fontsize=18)\n",
    "fig.subplots_adjust(right=0.8,top=0.85,bottom=0.2)\n",
    "cbar_ax = fig.add_axes([0.85, 0.15, 0.05, 0.75])\n",
    "cbar = fig.colorbar(im1, cax=cbar_ax)\n",
    "cbar.ax.set_yticklabels(['0%', '20%', '40%','60%','80%','100%'],fontsize=12)\n",
    "cbar.set_label('Active in % of Frames', rotation=270,fontsize=15, labelpad=10)\n",
    "\n",
    "#plt.show()\n",
    "plt.savefig(figure_path+'PerAct.eps', bbox_inches='tight', dpi=300)"
   ]
  },
  {
   "cell_type": "code",
   "execution_count": null,
   "metadata": {
    "ExecuteTime": {
     "end_time": "2020-04-06T07:12:51.625782Z",
     "start_time": "2020-04-06T07:12:51.564903Z"
    }
   },
   "outputs": [],
   "source": [
    "print(\"Embodied Agent:\")\n",
    "print(\"Average number of neurons active per frame (visual): \"+str(np.mean(np.sum(encA[:,:256]>0,axis=1)))+\" (min=\"+str(np.min(np.sum(encA[:,:256]>0,axis=1)))+\n",
    "      \" max=\"+str(np.max(np.sum(encA[:,:256]>0,axis=1)))+\" var=\"+str(np.round(np.var(np.sum(encA[:,:256]>0,axis=1)),3))+\")\")\n",
    "print(\"This is \"+str(np.round(np.mean(np.sum(encA[:,:256]>0,axis=1))/256*100,3))+\"% of all neurons.\")\n",
    "visActPer = np.sum((encA[:,:256])>0,axis=0)/encA.shape[0]*100\n",
    "print(\"In the visual encoding \"+str(np.sum(visActPer>0))+\" of the 256 neurons are active in at least 1 frame (=\"+\n",
    "     str(np.round(np.sum(visActPer>0)/256*100,3))+\"%), \"+str(np.sum(visActPer>40))+\" neurons are active in more than 40% of the frames (=\"+\n",
    "     str(np.round(np.sum(visActPer>40)/256*100,3))+\"%). \"+str(np.sum(visActPer==0))+\" neurons are never active (=\"+str(np.round(np.sum(visActPer==0)/256*100,3))+\n",
    "     \"%). The most active neuron is active in \"+str(np.max(visActPer))+\"% of the frames.\")\n",
    "vecActPer = np.sum((encA[:,256:])>0,axis=0)/encA.shape[0]*100\n",
    "\n",
    "print(\"\\nAutoencoder:\")\n",
    "print(\"Average number of neurons active per frame (visual): \"+str(np.mean(np.sum(encAE[:,:256]>0,axis=1)))+\" (min=\"+str(np.min(np.sum(encAE[:,:256]>0,axis=1)))+\n",
    "      \" max=\"+str(np.max(np.sum(encAE[:,:256]>0,axis=1)))+\" var=\"+str(np.round(np.var(np.sum(encAE[:,:256]>0,axis=1)),3))+\")\")\n",
    "print(\"This is \"+str(np.round(np.mean(np.sum(encAE[:,:256]>0,axis=1))/256*100,3))+\"% of all neurons.\")\n",
    "visActPer = np.sum((encAE[:,:256])>0,axis=0)/encAE.shape[0]*100\n",
    "print(\"In the visual encoding \"+str(np.sum(visActPer>0))+\" of the 256 neurons are active in at least 1 frame (=\"+\n",
    "     str(np.round(np.sum(visActPer>0)/256*100,3))+\"%), \"+str(np.sum(visActPer>40))+\" neurons are active in more than 40% of the frames (=\"+\n",
    "     str(np.round(np.sum(visActPer>40)/256*100,3))+\"%). \"+str(np.sum(visActPer==0))+\" neurons are never active (=\"+str(np.round(np.sum(visActPer==0)/256*100,3))+\n",
    "     \"%). The most active neuron is active in \"+str(np.max(visActPer))+\"% of the frames.\")\n",
    "vecActPer = np.sum((encAE[:,256:])>0,axis=0)/encAE.shape[0]*100\n",
    "\n",
    "print(\"\\nClassifier:\")\n",
    "print(\"Average number of neurons active per frame (visual): \"+str(np.mean(np.sum(encC[:,:256]>0,axis=1)))+\" (min=\"+str(np.min(np.sum(encC[:,:256]>0,axis=1)))+\n",
    "      \" max=\"+str(np.max(np.sum(encC[:,:256]>0,axis=1)))+\" var=\"+str(np.round(np.var(np.sum(encC[:,:256]>0,axis=1)),3))+\")\")\n",
    "print(\"This is \"+str(np.round(np.mean(np.sum(encC[:,:256]>0,axis=1))/256*100,3))+\"% of all neurons.\")\n",
    "visActPer = np.sum((encC[:,:256])>0,axis=0)/encC.shape[0]*100\n",
    "print(\"In the visual encoding \"+str(np.sum(visActPer>0))+\" of the 256 neurons are active in at least 1 frame (=\"+\n",
    "     str(np.round(np.sum(visActPer>0)/256*100,3))+\"%), \"+str(np.sum(visActPer>40))+\" neurons are active in more than 40% of the frames (=\"+\n",
    "     str(np.round(np.sum(visActPer>40)/256*100,3))+\"%). \"+str(np.sum(visActPer==0))+\" neurons are never active (=\"+str(np.round(np.sum(visActPer==0)/256*100,3))+\n",
    "     \"%). The most active neuron is active in \"+str(np.max(visActPer))+\"% of the frames.\")\n",
    "vecActPer = np.sum((encC[:,256:])>0,axis=0)/encC.shape[0]*100"
   ]
  },
  {
   "cell_type": "markdown",
   "metadata": {},
   "source": [
    "### Compare Activations of Single Neurons"
   ]
  },
  {
   "cell_type": "code",
   "execution_count": null,
   "metadata": {
    "ExecuteTime": {
     "end_time": "2020-04-06T09:00:00.469547Z",
     "start_time": "2020-04-06T08:59:56.970032Z"
    }
   },
   "outputs": [],
   "source": [
    "for n in [0,1,2,50,202,250]:\n",
    "    plt.figure(figsize=(10,7))\n",
    "    ysmoothedA = gaussian_filter1d(encA[:,n]/np.max(np.abs(encA[:,n])), sigma=4)\n",
    "    plt.plot(ysmoothedA,color=sns.color_palette(\"Accent\", n_colors=8)[4],lw=4,zorder=6)\n",
    "\n",
    "    ysmoothedAE = gaussian_filter1d(encAE[:,n]/np.max(np.abs(encAE[:,n])), sigma=4)\n",
    "    plt.plot(ysmoothedAE,color=sns.color_palette(\"Accent\", n_colors=8)[7],lw=4,zorder=4)\n",
    "\n",
    "    ysmoothedC = gaussian_filter1d(encC[:,n]/np.max(np.abs(encC[:,n])), sigma=4)\n",
    "    plt.plot(ysmoothedC,color=sns.color_palette(\"Accent\", n_colors=8)[5],lw=4,zorder=4)\n",
    "\n",
    "    plt.plot(encA[:,n]/np.max(np.abs(encA[:,n])),color=sns.color_palette(\"Accent\", n_colors=8)[4],lw=4,zorder=3,alpha=0.4)\n",
    "    plt.plot(encAE[:,n]/np.max(np.abs(encAE[:,n])),color=sns.color_palette(\"Accent\", n_colors=8)[7],lw=4,alpha=0.4)\n",
    "    plt.plot(encC[:,n]/np.max(np.abs(encC[:,n])),color=sns.color_palette(\"Accent\", n_colors=8)[5],lw=4,alpha=0.4)\n",
    "\n",
    "    plt.xlim([0,4000])\n",
    "    plt.legend(['Embodied Agent','Autoencoder','Classifier'],fontsize=17)\n",
    "    plt.xticks(fontsize=15)\n",
    "    plt.yticks(fontsize=15)\n",
    "    plt.xlabel('Frame',fontsize=17)\n",
    "    plt.ylabel('Normalized Activation of Neuron #'+str(n),fontsize=17)\n",
    "    #plt.show()\n",
    "    plt.savefig(figure_path+'NeuronActs/ActN'+str(n)+'.eps', bbox_inches='tight', dpi=300)\n"
   ]
  },
  {
   "cell_type": "markdown",
   "metadata": {},
   "source": [
    "## Meaningfulness of Activations\n",
    "### K-Means\n",
    "#### Create Clusterings"
   ]
  },
  {
   "cell_type": "code",
   "execution_count": null,
   "metadata": {
    "ExecuteTime": {
     "end_time": "2020-04-03T10:08:15.506135Z",
     "start_time": "2020-04-03T10:08:11.085488Z"
    }
   },
   "outputs": [],
   "source": [
    "num_cluster = 6\n",
    "kmeansA = KMeans(n_clusters=num_cluster, random_state=0).fit(encA)\n",
    "clusterA = kmeansA.predict(encA)\n",
    "\n",
    "kmeansAE = KMeans(n_clusters=num_cluster, random_state=0).fit(encAE)\n",
    "clusterAE = kmeansAE.predict(encAE)\n",
    "\n",
    "kmeansC = KMeans(n_clusters=num_cluster, random_state=0).fit(encC)\n",
    "clusterC = kmeansC.predict(encC)"
   ]
  },
  {
   "cell_type": "markdown",
   "metadata": {},
   "source": [
    "#### Variance within Clusters"
   ]
  },
  {
   "cell_type": "code",
   "execution_count": null,
   "metadata": {
    "ExecuteTime": {
     "end_time": "2020-03-31T21:40:44.826783Z",
     "start_time": "2020-03-31T21:40:44.057728Z"
    }
   },
   "outputs": [],
   "source": [
    "\n",
    "_,_,BA,WA = getClusterVariance(clusterA,encA,num_cluster)\n",
    "_,_,BAE,WAE = getClusterVariance(clusterAE,encAE,num_cluster)\n",
    "_,_,BC,WC = getClusterVariance(clusterC,encC,num_cluster)\n",
    "\n",
    "\n",
    "plt.figure(figsize=(15,4))\n",
    "plt.subplots_adjust(top=0.78,wspace=0.3)\n",
    "\n",
    "plt.subplot(1,3,1)\n",
    "plt.title('Embodied Agent',fontsize=20)\n",
    "plt.bar(np.linspace(0,num_cluster-1,num_cluster),np.array(WA),color=[(0.49, 0.5+c*0.09, 0.3 + c*0.05)for c in range(6)])\n",
    "plt.plot([-1,num_cluster],[np.mean(np.array(WA)),np.mean(np.array(WA))],color='green')\n",
    "plt.plot([-1,num_cluster],[BA,BA],color='black')\n",
    "plt.xlim([-0.5,num_cluster-0.5])\n",
    "#plt.legend(['Avg Within Class Variance','Overall Variance'],fontsize=10)\n",
    "plt.xlabel('Cluster',fontsize=15)\n",
    "plt.ylabel('Variance',fontsize=15)\n",
    "\n",
    "plt.subplot(1,3,2)\n",
    "plt.title('Autoencoder',fontsize=20)\n",
    "plt.bar(np.linspace(0,num_cluster-1,num_cluster),np.array(WAE),color=[(0.49, 0.5+c*0.09, 0.3 + c*0.05)for c in range(6)])\n",
    "plt.plot([-1,num_cluster],[np.mean(np.array(WAE)),np.mean(np.array(WAE))],color='green')\n",
    "plt.plot([-1,num_cluster],[BAE,BAE],color='black')\n",
    "plt.xlim([-0.5,num_cluster-0.5])\n",
    "plt.legend(['Avg Within Class Variance','Overall Variance'],fontsize=13,loc = 8)\n",
    "plt.xlabel('Cluster',fontsize=15)\n",
    "#plt.ylabel('Variance',fontsize=15)\n",
    "\n",
    "plt.subplot(1,3,3)\n",
    "plt.title('Classifier',fontsize=20)\n",
    "plt.bar(np.linspace(0,num_cluster-1,num_cluster),np.array(WC),color=[(0.49, 0.5+c*0.09, 0.3 + c*0.05)for c in range(6)])\n",
    "plt.plot([-1,num_cluster],[np.mean(np.array(WC)),np.mean(np.array(WC))],color='green')\n",
    "plt.plot([-1,num_cluster],[BC,BC],color='black')\n",
    "plt.xlim([-0.5,num_cluster-0.5])\n",
    "#plt.legend(['Avg Within Class Variance','Overall Variance'],fontsize=10)\n",
    "plt.xlabel('Cluster',fontsize=15)\n",
    "#plt.ylabel('Variance',fontsize=15)\n",
    "#plt.show()\n",
    "plt.savefig(figure_path+'ClusterVar'+str(num_cluster)+'.eps', bbox_inches='tight',dpi=300)"
   ]
  },
  {
   "cell_type": "markdown",
   "metadata": {},
   "source": [
    "#### Distribution of Frames in Clusters"
   ]
  },
  {
   "cell_type": "code",
   "execution_count": null,
   "metadata": {
    "ExecuteTime": {
     "end_time": "2020-03-31T21:40:45.303531Z",
     "start_time": "2020-03-31T21:40:44.827759Z"
    }
   },
   "outputs": [],
   "source": [
    "plt.figure(figsize=(15,4))\n",
    "plt.subplots_adjust(top=0.78,wspace=0.05)\n",
    "\n",
    "plt.subplot(1,3,1)\n",
    "plt.title('Embodied Agent',fontsize=20)\n",
    "hA = np.histogram(clusterA,bins=np.linspace(-0.5,num_cluster-0.5,num_cluster+1))\n",
    "plt.bar(np.linspace(0,5,6),hA[0],color=[(0.49, 0.5+c*0.09, 0.3 + c*0.05)for c in range(6)])\n",
    "plt.xlim([-0.5,num_cluster-0.5])\n",
    "plt.ylim([0,1300])\n",
    "plt.xlabel('Cluster',fontsize=15)\n",
    "plt.ylabel('# Samples',fontsize=15)\n",
    "\n",
    "plt.subplot(1,3,2)\n",
    "plt.title('Autoencoder',fontsize=20)\n",
    "hAE = np.histogram(clusterAE,bins=np.linspace(-0.5,num_cluster-0.5,num_cluster+1))\n",
    "plt.bar(np.linspace(0,5,6),hAE[0],color=[(0.49, 0.5+c*0.09, 0.3 + c*0.05)for c in range(6)])\n",
    "plt.xlim([-0.5,num_cluster-0.5])\n",
    "plt.ylim([0,1300])\n",
    "plt.yticks([],[])\n",
    "plt.xlabel('Cluster',fontsize=15)\n",
    "\n",
    "plt.subplot(1,3,3)\n",
    "plt.title('Classifier',fontsize=20)\n",
    "hC = np.histogram(clusterC,bins=np.linspace(-0.5,num_cluster-0.5,num_cluster+1))\n",
    "plt.bar(np.linspace(0,5,6),hC[0],color=[(0.49, 0.5+c*0.09, 0.3 + c*0.05)for c in range(6)])\n",
    "plt.xlim([-0.5,num_cluster-0.5])\n",
    "plt.ylim([0,1300])\n",
    "plt.yticks([],[])\n",
    "plt.xlabel('Cluster',fontsize=15)\n",
    "\n",
    "#plt.show()\n",
    "plt.savefig(figure_path+'ClusterCount'+str(num_cluster)+'.eps', bbox_inches='tight',dpi=300)"
   ]
  },
  {
   "cell_type": "markdown",
   "metadata": {},
   "source": [
    "#### Correlations Between Actions and Clusters - Embodied Agent"
   ]
  },
  {
   "cell_type": "code",
   "execution_count": null,
   "metadata": {
    "ExecuteTime": {
     "end_time": "2020-04-03T13:20:55.554152Z",
     "start_time": "2020-04-03T13:20:53.376206Z"
    },
    "scrolled": true
   },
   "outputs": [],
   "source": [
    "p = np.array(sns.color_palette(\"Accent\", n_colors=8))[np.array([0,1,3,4,6,7])]\n",
    "corVal=np.zeros((6,num_cluster))\n",
    "cormaxA = 0\n",
    "corminA = 0\n",
    "for action in range(6):\n",
    "    corrs = np.zeros((21,num_cluster))\n",
    "    for c in range(num_cluster):\n",
    "        for r in range(-10,11):\n",
    "            a = np.roll(all_a_comb==action, r)\n",
    "            corrs[r+10,c] = np.corrcoef((clusterA==c).astype(int),a)[1][0]\n",
    "        if np.max(corrs[:,c])>cormaxA:cormaxA = np.max(corrs[:,c])\n",
    "        if np.min(corrs[:,c])<corminA:corminA = np.min(corrs[:,c])\n",
    "        corVal[action,c] = np.mean(corrs[8:13,c])\n",
    "    plt.figure(figsize=(10,7))\n",
    "    for c in range(num_cluster):\n",
    "        #ysmoothed = gaussian_filter1d(corrs[:,c], sigma=0.5)\n",
    "        plt.plot(corrs[:,c],linewidth=3,color=(0.49, 0.5+c*0.09, 0.3 + c*0.05))\n",
    "    plt.legend(np.linspace(0,num_cluster-1,num_cluster,dtype=int),title='Cluster',title_fontsize=15,fontsize=13,loc=2,ncol=2)\n",
    "    plt.title('Cluster Correlation with Action '+str(action)+' ('+actions[action]+')',fontsize=20)\n",
    "    plt.xlabel('Sliding Window Offset',fontsize=15)\n",
    "    plt.ylabel('Correlation Coefficient',fontsize=15)\n",
    "    plt.xticks([0,5,10,15,20],['-10','-5','0','5','10'],fontsize=13)\n",
    "    plt.ylim([-1,1])\n",
    "    plt.xlim([0,20])\n",
    "    #plt.show()\n",
    "    plt.savefig(figure_path+'C_A_Corrs/A_Corrcoef20_A'+str(action)+'.png', bbox_inches='tight')"
   ]
  },
  {
   "cell_type": "code",
   "execution_count": null,
   "metadata": {
    "ExecuteTime": {
     "end_time": "2020-04-03T13:20:58.548611Z",
     "start_time": "2020-04-03T13:20:58.472954Z"
    }
   },
   "outputs": [],
   "source": [
    "dfA = pd.DataFrame(columns=['Action','cluster','correlation'])\n",
    "for a in range(6):\n",
    "    for c in range(num_cluster):\n",
    "        dfA = dfA.append({'Action':actions[a],'cluster':int(c),'correlation':corVal[a,c]},ignore_index=True)"
   ]
  },
  {
   "cell_type": "markdown",
   "metadata": {},
   "source": [
    "#### Correlations Between Actions and Clusters - Autoencoder"
   ]
  },
  {
   "cell_type": "code",
   "execution_count": null,
   "metadata": {
    "ExecuteTime": {
     "end_time": "2020-04-03T13:21:07.827538Z",
     "start_time": "2020-04-03T13:21:05.639277Z"
    }
   },
   "outputs": [],
   "source": [
    "p = np.array(sns.color_palette(\"Accent\", n_colors=8))[np.array([0,1,3,4,6,7])]\n",
    "corValAE=np.zeros((6,num_cluster))\n",
    "cormaxAE = 0\n",
    "corminAE = 0\n",
    "for action in range(6):\n",
    "    corrs = np.zeros((21,num_cluster))\n",
    "    for c in range(num_cluster):\n",
    "        for r in range(-10,11):\n",
    "            a = np.roll(all_a_comb==action, r)\n",
    "            corrs[r+10,c] = np.corrcoef((clusterAE==c).astype(int),a)[1][0]\n",
    "        if np.max(corrs[:,c])>cormaxAE:cormaxAE = np.max(corrs[:,c])\n",
    "        if np.min(corrs[:,c])<corminAE:corminAE = np.min(corrs[:,c])\n",
    "        corValAE[action,c] = np.mean(corrs[8:13,c])\n",
    "    plt.figure(figsize=(10,7))\n",
    "    for c in range(num_cluster):\n",
    "        #ysmoothed = gaussian_filter1d(corrs[:,c], sigma=0.5)\n",
    "        plt.plot(corrs[:,c],linewidth=3,color=(0.49, 0.5+c*0.09, 0.3 + c*0.05))\n",
    "    plt.legend(np.linspace(0,num_cluster-1,num_cluster,dtype=int),title='Cluster',title_fontsize=15,fontsize=13,loc=2,ncol=2)\n",
    "    plt.title('Cluster Correlation with Action '+str(action)+' ('+actions[action]+')',fontsize=20)\n",
    "    plt.xlabel('Sliding Window Offset',fontsize=15)\n",
    "    plt.ylabel('Correlation Coefficient',fontsize=15)\n",
    "    plt.xticks([0,5,10,15,20],['-10','-5','0','5','10'],fontsize=13)\n",
    "    plt.ylim([-1,1])\n",
    "    plt.xlim([0,20])\n",
    "    #plt.show()\n",
    "    plt.savefig(figure_path+'C_A_Corrs/AE_Corrcoef20_A'+str(action)+'.png', bbox_inches='tight')"
   ]
  },
  {
   "cell_type": "code",
   "execution_count": null,
   "metadata": {
    "ExecuteTime": {
     "end_time": "2020-04-03T13:21:11.739248Z",
     "start_time": "2020-04-03T13:21:11.666032Z"
    }
   },
   "outputs": [],
   "source": [
    "dfAE = pd.DataFrame(columns=['Action','cluster','correlation'])\n",
    "for a in range(6):\n",
    "    for c in range(num_cluster):\n",
    "        dfAE = dfAE.append({'Action':actions[a],'cluster':int(c),'correlation':corValAE[a,c]},ignore_index=True)"
   ]
  },
  {
   "cell_type": "markdown",
   "metadata": {},
   "source": [
    "#### Correlations Between Actions and Clusters - Classifier"
   ]
  },
  {
   "cell_type": "code",
   "execution_count": null,
   "metadata": {
    "ExecuteTime": {
     "end_time": "2020-04-03T13:21:19.010090Z",
     "start_time": "2020-04-03T13:21:16.773469Z"
    }
   },
   "outputs": [],
   "source": [
    "p = np.array(sns.color_palette(\"Accent\", n_colors=8))[np.array([0,1,3,4,6,7])]\n",
    "corValC=np.zeros((6,num_cluster))\n",
    "cormaxC = 0\n",
    "corminC = 0\n",
    "for action in range(6):\n",
    "    corrs = np.zeros((21,num_cluster))\n",
    "    for c in range(num_cluster):\n",
    "        for r in range(-10,11):\n",
    "            a = np.roll(all_a_comb==action, r)\n",
    "            corrs[r+10,c] = np.corrcoef((clusterC==c).astype(int),a)[1][0]\n",
    "        if np.max(corrs[:,c])>cormaxC:cormaxC = np.max(corrs[:,c])\n",
    "        if np.min(corrs[:,c])<corminC:corminC = np.min(corrs[:,c])\n",
    "        corValC[action,c] = np.mean(corrs[8:13,c])\n",
    "    plt.figure(figsize=(10,7))\n",
    "    for c in range(num_cluster):\n",
    "        #ysmoothed = gaussian_filter1d(corrs[:,c], sigma=0.5)\n",
    "        plt.plot(corrs[:,c],linewidth=3,color=(0.49, 0.5+c*0.09, 0.3 + c*0.05))\n",
    "    plt.legend(np.linspace(0,num_cluster-1,num_cluster,dtype=int),title='Cluster',title_fontsize=15,fontsize=13,loc=2,ncol=2)\n",
    "    plt.title('Cluster Correlation with Action '+str(action)+' ('+actions[action]+')',fontsize=20)\n",
    "    plt.xlabel('Sliding Window Offset',fontsize=15)\n",
    "    plt.ylabel('Correlation Coefficient',fontsize=15)\n",
    "    plt.xticks([0,5,10,15,20],['-10','-5','0','5','10'],fontsize=13)\n",
    "    plt.ylim([-1,1])\n",
    "    plt.xlim([0,20])\n",
    "    #plt.show()\n",
    "    plt.savefig(figure_path+'C_A_Corrs/C_Corrcoef20_A'+str(action)+'.png', bbox_inches='tight')"
   ]
  },
  {
   "cell_type": "code",
   "execution_count": null,
   "metadata": {
    "ExecuteTime": {
     "end_time": "2020-04-03T13:21:20.201790Z",
     "start_time": "2020-04-03T13:21:20.131780Z"
    }
   },
   "outputs": [],
   "source": [
    "dfC = pd.DataFrame(columns=['Action','cluster','correlation'])\n",
    "for a in range(6):\n",
    "    for c in range(num_cluster):\n",
    "        dfC = dfC.append({'Action':actions[a],'cluster':int(c),'correlation':corValC[a,c]},ignore_index=True)"
   ]
  },
  {
   "cell_type": "markdown",
   "metadata": {},
   "source": [
    "#### Correlations Between Actions and Clusters - Comparison Example"
   ]
  },
  {
   "cell_type": "code",
   "execution_count": null,
   "metadata": {
    "ExecuteTime": {
     "end_time": "2020-04-03T10:08:36.596335Z",
     "start_time": "2020-04-03T10:08:35.973596Z"
    }
   },
   "outputs": [],
   "source": [
    "action = 0\n",
    "fig = plt.figure(figsize=(15,5))\n",
    "plt.subplots_adjust(top=0.78,wspace=0.01)\n",
    "\n",
    "plt.subplot(1,3,1)\n",
    "corrsA = np.zeros((21,num_cluster))\n",
    "for c in range(num_cluster):\n",
    "    for r in range(-10,11):\n",
    "        a = np.roll(all_a_comb==action, r)\n",
    "        corrsA[r+10,c] = np.corrcoef((clusterA==c).astype(int),a)[1][0]\n",
    "for c in range(num_cluster):\n",
    "    plt.plot(corrsA[:,c],linewidth=3,color=(0.49, 0.5+c*0.09, 0.3 + c*0.05))\n",
    "#plt.legend(np.linspace(0,num_cluster-1,num_cluster,dtype=int),title='Cluster',title_fontsize=15,fontsize=13,loc=2,ncol=2)\n",
    "plt.title('Embodied Agent',fontsize=18)\n",
    "plt.xlabel('Sliding Window Offset [Frames]',fontsize=15)\n",
    "plt.ylabel('Correlation Coefficient',fontsize=15)\n",
    "plt.xticks([0,5,10,15,20],['    -10','-5','0','5','10'],fontsize=13)\n",
    "plt.xticks([0,5,10,15,20],['-10','-5','0','5','10    '],fontsize=13)\n",
    "plt.ylim([-1,1])\n",
    "plt.xlim([0,20])\n",
    "\n",
    "plt.subplot(1,3,2)\n",
    "corrsAE = np.zeros((21,num_cluster))\n",
    "for c in range(num_cluster):\n",
    "    for r in range(-10,11):\n",
    "        a = np.roll(all_a_comb==action, r)\n",
    "        corrsAE[r+10,c] = np.corrcoef((clusterAE==c).astype(int),a)[1][0]\n",
    "for c in range(num_cluster):\n",
    "    plt.plot(corrsAE[:,c],linewidth=3,color=(0.49, 0.5+c*0.09, 0.3 + c*0.05))\n",
    "plt.legend(np.linspace(0,num_cluster-1,num_cluster,dtype=int),title='Cluster',title_fontsize=15,fontsize=13,loc=9,ncol=2)\n",
    "plt.title('Autoencoder',fontsize=18)\n",
    "plt.xlabel('Sliding Window Offset [Frames]',fontsize=15)\n",
    "plt.yticks([],[])\n",
    "plt.xticks([0,5,10,15,20],['    -10','-5','0','5','10    '],fontsize=13)\n",
    "plt.ylim([-1,1])\n",
    "plt.xlim([0,20])\n",
    "\n",
    "plt.subplot(1,3,3)\n",
    "corrsC = np.zeros((21,num_cluster))\n",
    "for c in range(num_cluster):\n",
    "    for r in range(-10,11):\n",
    "        a = np.roll(all_a_comb==action, r)\n",
    "        corrsC[r+10,c] = np.corrcoef((clusterC==c).astype(int),a)[1][0]\n",
    "for c in range(num_cluster):\n",
    "    plt.plot(corrsC[:,c],linewidth=3,color=(0.49, 0.5+c*0.09, 0.3 + c*0.05))\n",
    "#plt.legend(np.linspace(0,num_cluster-1,num_cluster,dtype=int),title='Cluster',title_fontsize=15,fontsize=13,loc=2,ncol=2)\n",
    "plt.title('Classifier',fontsize=18)\n",
    "plt.xlabel('Sliding Window Offset [Frames]',fontsize=15)\n",
    "#plt.ylabel('Correlation Coefficient',fontsize=15)\n",
    "plt.xticks([0,5,10,15,20],['    -10','-5','0','5','10'],fontsize=13)\n",
    "plt.yticks([],[])\n",
    "plt.ylim([-1,1])\n",
    "plt.xlim([0,20])\n",
    "\n",
    "#plt.suptitle('Correlation in 20 Frame Window Around Action for \\nAction = '+str(actions[action]),fontsize=20)\n",
    "#plt.legend(fontsize=15,bbox_to_anchor=(1.15, 0.8), loc=2)\n",
    "#plt.show()\n",
    "plt.savefig(figure_path+'Corrcoef_Comparison_Expl_A'+str(action)+'.eps', bbox_inches='tight',dpi=300)"
   ]
  },
  {
   "cell_type": "markdown",
   "metadata": {},
   "source": [
    "#### Correlations Between Actions and Clusters - Overall Comparison"
   ]
  },
  {
   "cell_type": "code",
   "execution_count": null,
   "metadata": {
    "ExecuteTime": {
     "end_time": "2020-04-03T13:21:25.095550Z",
     "start_time": "2020-04-03T13:21:25.087571Z"
    }
   },
   "outputs": [],
   "source": [
    "print(\"Embodied Agent:\\nMaximum Correlation: \"+str(np.round(cormaxA,3))+\" Minimum Correlation: \"+str(np.round(corminA,3)))\n",
    "print(\"Autoencoder:\\nMaximum Correlation: \"+str(np.round(cormaxAE,3))+\" Minimum Correlation: \"+str(np.round(corminAE,3)))\n",
    "print(\"Classifier:\\nMaximum Correlation: \"+str(np.round(cormaxC,3))+\" Minimum Correlation: \"+str(np.round(corminC,3)))"
   ]
  },
  {
   "cell_type": "code",
   "execution_count": null,
   "metadata": {
    "ExecuteTime": {
     "end_time": "2020-04-03T13:25:11.103329Z",
     "start_time": "2020-04-03T13:25:10.094862Z"
    }
   },
   "outputs": [],
   "source": [
    "p = np.array(sns.color_palette(\"Accent\", n_colors=8))[np.array([0,1,3,4,6,7])]\n",
    "\n",
    "fig = plt.figure(figsize=(15,5))\n",
    "plt.subplots_adjust(top=0.78,wspace=0.01)\n",
    "\n",
    "plt.subplot(1,3,1)\n",
    "ax = sns.barplot(x=\"cluster\", y=\"correlation\", hue=\"Action\", data=dfA,palette=p)\n",
    "ax.get_legend().remove()\n",
    "plt.title('Embodied Agent',fontsize=20)\n",
    "plt.ylabel('Correlation',fontsize=15)\n",
    "plt.yticks(fontsize=15)\n",
    "plt.ylim(-0.25,0.6)\n",
    "plt.xlabel(\"Cluster\",fontsize=15)\n",
    "plt.xticks(fontsize=15)\n",
    "\n",
    "plt.subplot(1,3,2)\n",
    "ax2 = sns.barplot(x=\"cluster\", y=\"correlation\", hue=\"Action\", data=dfAE,palette=p)\n",
    "#ax2.get_legend().remove()\n",
    "ax2.legend(fontsize=10,frameon=False,title='Action Combination',title_fontsize=12,loc=9)\n",
    "plt.title('Autoencoder',fontsize=20)\n",
    "plt.yticks([],[])\n",
    "plt.ylim(-0.25,0.6)\n",
    "plt.ylabel('')\n",
    "plt.xlabel(\"Cluster\",fontsize=15)\n",
    "plt.xticks(fontsize=15)\n",
    "\n",
    "plt.subplot(1,3,3)\n",
    "ax3 = sns.barplot(x=\"cluster\", y=\"correlation\", hue=\"Action\", data=dfC,palette=p)\n",
    "#ax3.legend(fontsize=10,frameon=False,title='Action Combination',title_fontsize=12)\n",
    "ax3.get_legend().remove()\n",
    "plt.title('Classifier',fontsize=20)\n",
    "plt.yticks([],[])\n",
    "plt.ylim(-0.25,0.6)\n",
    "plt.ylabel('')\n",
    "\n",
    "plt.ylabel('')\n",
    "plt.xlabel(\"Cluster\",fontsize=15)\n",
    "plt.xticks(fontsize=15)\n",
    "\n",
    "#plt.suptitle('Avg. Correlation in 10 Frame Window Around Action with Cluster',fontsize=22)\n",
    "#plt.show()\n",
    "plt.savefig(figure_path+'Corrcoef_Comparison.eps', bbox_inches='tight',dpi=300)"
   ]
  },
  {
   "cell_type": "markdown",
   "metadata": {},
   "source": [
    "#### Correlations Between Actions and Clusters - Sum of Squared Correlations"
   ]
  },
  {
   "cell_type": "code",
   "execution_count": null,
   "metadata": {
    "ExecuteTime": {
     "end_time": "2020-04-03T13:25:19.144883Z",
     "start_time": "2020-04-03T13:25:19.139862Z"
    }
   },
   "outputs": [],
   "source": [
    "sosA = np.zeros(num_cluster)#sum of squares of correlations in one cluster\n",
    "for c in range(num_cluster):\n",
    "    sosA[c] = np.sum(np.square(corVal[:,c]))\n",
    "    \n",
    "sosAE = np.zeros(num_cluster)\n",
    "for c in range(num_cluster):\n",
    "    sosAE[c] = np.sum(np.square(corValAE[:,c]))\n",
    "\n",
    "sosC = np.zeros(num_cluster)\n",
    "for c in range(num_cluster):\n",
    "    sosC[c] = np.sum(np.square(corValC[:,c]))"
   ]
  },
  {
   "cell_type": "code",
   "execution_count": null,
   "metadata": {
    "ExecuteTime": {
     "end_time": "2020-04-03T13:26:04.022996Z",
     "start_time": "2020-04-03T13:26:03.633004Z"
    }
   },
   "outputs": [],
   "source": [
    "plt.figure(figsize=(10,7))\n",
    "plt.bar(np.linspace(-0.15,4.85,6),sosA,width=0.3,color=sns.color_palette(\"Accent\", n_colors=8)[4])\n",
    "plt.bar(np.linspace(0.15,5.15,6),sosAE,width=0.3,color=sns.color_palette(\"Accent\", n_colors=8)[7])\n",
    "plt.bar(np.linspace(0.45,5.45,6),sosC,width=0.3,color=sns.color_palette(\"Accent\", n_colors=8)[5])\n",
    "\n",
    "#plt.title('Sum of Squares of Correlations\\nBetween Actions and Cluster',fontsize=25)\n",
    "plt.xlabel('Cluster',fontsize=20)\n",
    "plt.ylabel('Sum of Squares of Cluster Correlations',fontsize=20)\n",
    "plt.legend(['Embodied Agent','Autoencoder','Classifier'],fontsize=20)\n",
    "plt.xticks(fontsize=15)\n",
    "plt.yticks(fontsize=15)\n",
    "#plt.show()\n",
    "plt.savefig(figure_path+'Corrcoef_sum_squares.eps', bbox_inches='tight',dpi=300)"
   ]
  },
  {
   "cell_type": "code",
   "execution_count": null,
   "metadata": {
    "ExecuteTime": {
     "end_time": "2020-04-03T13:26:27.127362Z",
     "start_time": "2020-04-03T13:26:27.120384Z"
    }
   },
   "outputs": [],
   "source": [
    "print('Overall sum of squares: Embodied Agent = '+str(np.round(np.sum(sosA),3))+' Autoencoder = '+str(np.round(np.sum(sosAE),3))+' Classifier = '+str(np.round(np.sum(sosC),3)))"
   ]
  },
  {
   "cell_type": "markdown",
   "metadata": {},
   "source": [
    "#### Correlations Between Level Doors and Clusters"
   ]
  },
  {
   "cell_type": "code",
   "execution_count": null,
   "metadata": {
    "ExecuteTime": {
     "end_time": "2020-03-31T21:40:55.636480Z",
     "start_time": "2020-03-31T21:40:54.971543Z"
    }
   },
   "outputs": [],
   "source": [
    "l_doors = label_test==6\n",
    "l_doors = l_doors.astype(int)\n",
    "\n",
    "fig = plt.figure(figsize=(15,5))\n",
    "plt.subplots_adjust(top=0.83,wspace=0.01)\n",
    "\n",
    "plt.subplot(1,3,1)\n",
    "corrsA = np.zeros((21,num_cluster))\n",
    "for c in range(num_cluster):\n",
    "    for r in range(-10,11):\n",
    "        a = np.roll(l_doors, r)\n",
    "        corrsA[r+10,c] = np.corrcoef((clusterA==c).astype(int),a)[1][0]\n",
    "for c in range(num_cluster):\n",
    "    r = num_cluster-c\n",
    "    plt.plot(corrsA[:,c],linewidth=4,color=(0.9, 0.4+r*0.1, 0.1 + r*0.07))\n",
    "\n",
    "#plt.legend(np.linspace(0,num_cluster-1,num_cluster,dtype=int),title='Cluster',title_fontsize=15,fontsize=13,loc=2,ncol=2)\n",
    "plt.title('Embodied Agent',fontsize=18)\n",
    "plt.xlabel('Sliding Window Offset [Frames]',fontsize=15)\n",
    "plt.ylabel('Correlation Coefficient',fontsize=15)\n",
    "plt.xticks([0,5,10,15,20],['-10','-5','0','5','10    '],fontsize=13)\n",
    "plt.ylim([-1,1])\n",
    "plt.xlim([0,20])\n",
    "\n",
    "plt.subplot(1,3,2)\n",
    "corrsAE = np.zeros((21,num_cluster))\n",
    "for c in range(num_cluster):\n",
    "    for r in range(-10,11):\n",
    "        a = np.roll(l_doors, r)\n",
    "        corrsAE[r+10,c] = np.corrcoef((clusterAE==c).astype(int),a)[1][0]\n",
    "for c in range(num_cluster):\n",
    "    r = num_cluster-c\n",
    "    plt.plot(corrsAE[:,c],linewidth=5,color=(0.9, 0.4+r*0.1, 0.1 + r*0.07))\n",
    "\n",
    "plt.legend(np.linspace(0,num_cluster-1,num_cluster,dtype=int),title='Cluster',title_fontsize=15,fontsize=13,loc=9,ncol=2)\n",
    "plt.title('Autoencoder',fontsize=18)\n",
    "plt.xlabel('Sliding Window Offset [Frames]',fontsize=15)\n",
    "#plt.ylabel('Correlation Coefficient',fontsize=15)\n",
    "plt.xticks([0,5,10,15,20],['    -10','-5','0','5','10'],fontsize=13)\n",
    "plt.yticks([],[])\n",
    "plt.ylim([-1,1])\n",
    "plt.xlim([0,20])\n",
    "\n",
    "plt.subplot(1,3,3)\n",
    "corrsC = np.zeros((21,num_cluster))\n",
    "for c in range(num_cluster):\n",
    "    for r in range(-10,11):\n",
    "        a = np.roll(l_doors, r)\n",
    "        corrsC[r+10,c] = np.corrcoef((clusterC==c).astype(int),a)[1][0]\n",
    "for c in range(num_cluster):\n",
    "    r = num_cluster-c\n",
    "    plt.plot(corrsC[:,c],linewidth=4,color=(0.9, 0.4+r*0.1, 0.1 + r*0.07))\n",
    "#plt.legend(np.linspace(0,num_cluster-1,num_cluster,dtype=int),title='Cluster',title_fontsize=15,fontsize=13,loc=2,ncol=2)\n",
    "\n",
    "plt.title('Classifier',fontsize=18)\n",
    "plt.xlabel('Sliding Window Offset [Frames]',fontsize=15)\n",
    "#plt.ylabel('Correlation Coefficient',fontsize=15)\n",
    "plt.xticks([0,5,10,15,20],['    -10','-5','0','5','10'],fontsize=13)\n",
    "plt.yticks([],[])\n",
    "plt.ylim([-1,1])\n",
    "plt.xlim([0,20])\n",
    "\n",
    "\n",
    "#plt.suptitle('Correlation with Level Doors in the Visual Input',fontsize=20)\n",
    "#plt.legend(fontsize=15,bbox_to_anchor=(1.15, 0.8), loc=2)\n",
    "#plt.show()\n",
    "plt.savefig(figure_path+'Corrcoef_Comparison_Doors.eps', bbox_inches='tight',dpi=300)"
   ]
  },
  {
   "cell_type": "code",
   "execution_count": null,
   "metadata": {
    "ExecuteTime": {
     "end_time": "2020-03-31T21:40:55.643460Z",
     "start_time": "2020-03-31T21:40:55.637476Z"
    }
   },
   "outputs": [],
   "source": [
    "print(\"Embodied Agent:\\nMaximum Correlation: \"+str(np.round(np.max(corrsA),3))+\" Minimum Correlation: \"+str(np.round(np.min(corrsA),3)))\n",
    "print(\"Autoencoder:\\nMaximum Correlation: \"+str(np.round(np.max(corrsAE),3))+\" Minimum Correlation: \"+str(np.round(np.min(corrsAE),3)))\n",
    "print(\"Classifier:\\nMaximum Correlation: \"+str(np.round(np.max(corrsC),3))+\" Minimum Correlation: \"+str(np.round(np.min(corrsC),3)))"
   ]
  },
  {
   "cell_type": "markdown",
   "metadata": {},
   "source": [
    "### T-SNE\n",
    "#### Create Mapping into 2D Space"
   ]
  },
  {
   "cell_type": "code",
   "execution_count": null,
   "metadata": {
    "ExecuteTime": {
     "end_time": "2020-03-31T21:43:30.537343Z",
     "start_time": "2020-03-31T21:40:55.645457Z"
    }
   },
   "outputs": [],
   "source": [
    "tsneA = TSNE(n_components=2,perplexity=70,random_state=0).fit_transform(encA)\n",
    "tsneAE = TSNE(n_components=2,perplexity=70,random_state=0).fit_transform(encAE)\n",
    "tsneC = TSNE(n_components=2,perplexity=70,random_state=0).fit_transform(encC)"
   ]
  },
  {
   "cell_type": "markdown",
   "metadata": {},
   "source": [
    "#### T-SNE Colored by Image Content - Embodied Agent"
   ]
  },
  {
   "cell_type": "code",
   "execution_count": null,
   "metadata": {
    "ExecuteTime": {
     "end_time": "2020-03-31T21:43:31.345150Z",
     "start_time": "2020-03-31T21:43:30.538308Z"
    }
   },
   "outputs": [],
   "source": [
    "top = plt.cm.get_cmap('Dark2')\n",
    "bottom = plt.cm.get_cmap('Blues')\n",
    "\n",
    "newcolors = np.vstack((top(np.linspace(0, 1, 8)),\n",
    "                       bottom(np.linspace(0.5, 1, 1))))\n",
    "cmapnew = mpl.colors.ListedColormap(newcolors, name='GreyBlue')\n",
    "\n",
    "sem_lab = ['Nothing','Entry Door','Normal Door',\n",
    "           'Key Door','Puzzle Door','Level Door','Key','Orb','Puzzle']\n",
    "\n",
    "plt.figure(figsize=(10,7))\n",
    "#plt.title('T-SNE on the Visual Embedding\\nClassifier', fontsize=20)\n",
    "plt.title('Embodied Agent', fontsize=20)\n",
    "im1 = plt.scatter(tsneA[:,0],tsneA[:,1],c=label_test,cmap=cmapnew)\n",
    "values = np.linspace(1,9,9)\n",
    "colors = [ im1.cmap(im1.norm(value)) for value in values]\n",
    "patches = [ mpatches.Patch(color=colors[i], label=sem_lab[i] ) for i in range(len(values)) ]\n",
    "plt.legend(handles=patches, bbox_to_anchor=(0.95, 0.8), loc=2, borderaxespad=0. , title='Image Content',title_fontsize=15,fontsize=13)\n",
    "\n",
    "plt.axis('off')\n",
    "#plt.show()\n",
    "plt.savefig(figure_path+'tsne_semantic_A.eps', bbox_inches='tight',dpi=300)"
   ]
  },
  {
   "cell_type": "markdown",
   "metadata": {},
   "source": [
    "#### T-SNE Colored by Image Content - Autoencoder"
   ]
  },
  {
   "cell_type": "code",
   "execution_count": null,
   "metadata": {
    "ExecuteTime": {
     "end_time": "2020-03-31T21:43:32.153988Z",
     "start_time": "2020-03-31T21:43:31.346147Z"
    }
   },
   "outputs": [],
   "source": [
    "top = plt.cm.get_cmap('Dark2')\n",
    "bottom = plt.cm.get_cmap('Blues')\n",
    "\n",
    "newcolors = np.vstack((top(np.linspace(0, 1, 8)),\n",
    "                       bottom(np.linspace(0.5, 1, 1))))\n",
    "cmapnew = mpl.colors.ListedColormap(newcolors, name='GreyBlue')\n",
    "\n",
    "sem_lab = ['Nothing','Entry Door','Normal Door',\n",
    "           'Key Door','Puzzle Door','Level Door','Key','Orb','Puzzle']\n",
    "\n",
    "plt.figure(figsize=(10,7))\n",
    "#plt.title('T-SNE on the Visual Embedding\\nClassifier', fontsize=20)\n",
    "plt.title('Autoencoder', fontsize=20)\n",
    "im1 = plt.scatter(tsneAE[:,0],tsneAE[:,1],c=label_test,cmap=cmapnew)\n",
    "values = np.linspace(1,9,9)\n",
    "colors = [ im1.cmap(im1.norm(value)) for value in values]\n",
    "patches = [ mpatches.Patch(color=colors[i], label=sem_lab[i] ) for i in range(len(values)) ]\n",
    "plt.legend(handles=patches, bbox_to_anchor=(0.95, 0.8), loc=2, borderaxespad=0. , title='Image Content',title_fontsize=15,fontsize=13)\n",
    "\n",
    "plt.axis('off')\n",
    "#plt.show()\n",
    "plt.savefig(figure_path+'tsne_semantic_AE.eps', bbox_inches='tight',dpi=300)"
   ]
  },
  {
   "cell_type": "markdown",
   "metadata": {},
   "source": [
    "#### T-SNE Colored by Image Content - Classifier"
   ]
  },
  {
   "cell_type": "code",
   "execution_count": null,
   "metadata": {
    "ExecuteTime": {
     "end_time": "2020-03-31T21:43:32.945870Z",
     "start_time": "2020-03-31T21:43:32.154984Z"
    }
   },
   "outputs": [],
   "source": [
    "top = plt.cm.get_cmap('Dark2')\n",
    "bottom = plt.cm.get_cmap('Blues')\n",
    "\n",
    "newcolors = np.vstack((top(np.linspace(0, 1, 8)),\n",
    "                       bottom(np.linspace(0.5, 1, 1))))\n",
    "cmapnew = mpl.colors.ListedColormap(newcolors, name='GreyBlue')\n",
    "\n",
    "sem_lab = ['Nothing','Entry Door','Normal Door',\n",
    "           'Key Door','Puzzle Door','Level Door','Key','Orb','Puzzle']\n",
    "\n",
    "plt.figure(figsize=(10,7))\n",
    "#plt.title('T-SNE on the Visual Embedding\\nClassifier', fontsize=20)\n",
    "plt.title('Classifier', fontsize=20)\n",
    "im1 = plt.scatter(tsneC[:,0],tsneC[:,1],c=label_test,cmap=cmapnew)\n",
    "values = np.linspace(1,9,9)\n",
    "colors = [ im1.cmap(im1.norm(value)) for value in values]\n",
    "patches = [ mpatches.Patch(color=colors[i], label=sem_lab[i] ) for i in range(len(values)) ]\n",
    "plt.legend(handles=patches, bbox_to_anchor=(0.95, 0.8), loc=2, borderaxespad=0. , title='Image Content',title_fontsize=15,fontsize=13)\n",
    "\n",
    "plt.axis('off')\n",
    "#plt.show()\n",
    "plt.savefig(figure_path+'tsne_semantic_C.eps', bbox_inches='tight',dpi=300)"
   ]
  },
  {
   "cell_type": "markdown",
   "metadata": {},
   "source": [
    "#### T-SNE Colored by Action - Preprocessing"
   ]
  },
  {
   "cell_type": "code",
   "execution_count": null,
   "metadata": {
    "ExecuteTime": {
     "end_time": "2020-03-31T21:43:32.963822Z",
     "start_time": "2020-03-31T21:43:32.947877Z"
    }
   },
   "outputs": [],
   "source": [
    "label_test = np.array(hand_l['Label'])\n",
    "edgeWs = np.array(hand_l['Label'])\n",
    "edgeWs[edgeWs == 0]=0\n",
    "edgeWs[edgeWs == 1]=0\n",
    "edgeWs[edgeWs == 2]=0\n",
    "edgeWs[edgeWs == 3]=0\n",
    "edgeWs[edgeWs == 4]=0\n",
    "edgeWs[edgeWs == 5]=0\n",
    "edgeWs[edgeWs == 6]=1\n",
    "edgeWs[edgeWs == 7]=0\n",
    "edgeWs[edgeWs == 8]=0\n",
    "edgeWs[edgeWs == 9]=0\n",
    "\n",
    "edgeCs = np.array(hand_l['Label'])\n",
    "edgeCs = edgeCs.astype(str)\n",
    "edgeCs[edgeCs=='0'] = 'b'\n",
    "edgeCs[edgeCs=='1'] = 'b'\n",
    "edgeCs[edgeCs=='2'] = 'b'\n",
    "edgeCs[edgeCs=='3'] = 'green'\n",
    "edgeCs[edgeCs=='4'] = 'firebrick'\n",
    "edgeCs[edgeCs=='5'] = 'purple'\n",
    "edgeCs[edgeCs=='6'] = 'r'\n",
    "edgeCs[edgeCs=='7'] = 'yellow'\n",
    "edgeCs[edgeCs=='8'] = 'darkblue'\n",
    "edgeCs[edgeCs=='9'] = 'b'\n",
    "\n",
    "newOrder = np.append(np.where(edgeWs==0),np.where(edgeWs!=0))#to plot door frames on top (better visibility)\n",
    "edgeWs[newOrder]\n",
    "\n",
    "act_lab = ['Forward, Turn Right','Forward, Camera Left, Turn Right','Forward, Camera Left, Turn Left',\n",
    "           'Forward, Camera Right, Turn Right','Backward, Camera Right, Turn Right','Everything Else']"
   ]
  },
  {
   "cell_type": "markdown",
   "metadata": {},
   "source": [
    "#### T-SNE Colored by Action - Embodied Agent"
   ]
  },
  {
   "cell_type": "code",
   "execution_count": null,
   "metadata": {
    "ExecuteTime": {
     "end_time": "2020-03-31T21:43:33.611091Z",
     "start_time": "2020-03-31T21:43:32.966817Z"
    }
   },
   "outputs": [],
   "source": [
    "fig = plt.figure(figsize=(10,7))\n",
    "#plt.title('T-SNE on the Visual Embedding\\nClassifier', fontsize=20)\n",
    "plt.title('Embodied Agent', fontsize=20)\n",
    "im1 = plt.scatter(tsneA[newOrder,0],tsneA[newOrder,1],c=all_a_comb[newOrder],cmap='Accent',edgecolors=edgeCs[newOrder],linewidths =edgeWs[newOrder])\n",
    "values = np.linspace(0,5,6)\n",
    "colors = [ im1.cmap(im1.norm(value)) for value in values]\n",
    "patches = [ mpatches.Patch(color=colors[i], label=act_lab[i] ) for i in range(len(values)) ]\n",
    "l1 = plt.legend(handles=patches, bbox_to_anchor=(0.91, 0.95), loc=2, borderaxespad=0. , title='Action Combination',title_fontsize=15,fontsize=13,frameon=False)\n",
    "\n",
    "line1 = plt.Line2D(range(1), range(1), color=\"white\", marker='o',markersize=7,markerfacecolor=\"white\",markeredgecolor=\"red\")\n",
    "line2 = plt.Line2D(range(1), range(1), color=\"white\", marker='o',markersize=7,markerfacecolor=\"white\",markeredgecolor=\"white\")\n",
    "l2 = plt.legend((line1,line2),('Level Door',''), bbox_to_anchor=(1, 0.55),numpoints=1, loc=2,fontsize=13,title=\"Observation Content\",title_fontsize=15,frameon=False, borderaxespad=0.)\n",
    "\n",
    "fig.add_artist(l1)\n",
    "fig.add_artist(l2)\n",
    "\n",
    "plt.axis('off')\n",
    "#plt.show()\n",
    "plt.savefig(figure_path+'tsne_actions_A.eps', bbox_inches='tight',dpi=300)"
   ]
  },
  {
   "cell_type": "markdown",
   "metadata": {},
   "source": [
    "#### T-SNE Colored by Action - Autoencoder"
   ]
  },
  {
   "cell_type": "code",
   "execution_count": null,
   "metadata": {
    "ExecuteTime": {
     "end_time": "2020-03-31T21:43:34.250699Z",
     "start_time": "2020-03-31T21:43:33.612089Z"
    }
   },
   "outputs": [],
   "source": [
    "fig = plt.figure(figsize=(10,7))\n",
    "#plt.title('T-SNE on the Visual Embedding\\nClassifier', fontsize=20)\n",
    "plt.title('Autoencoder', fontsize=20)\n",
    "im1 = plt.scatter(tsneAE[newOrder,0],tsneAE[newOrder,1],c=all_a_comb[newOrder],cmap='Accent',edgecolors=edgeCs[newOrder],linewidths =edgeWs[newOrder])\n",
    "values = np.linspace(0,5,6)\n",
    "colors = [ im1.cmap(im1.norm(value)) for value in values]\n",
    "patches = [ mpatches.Patch(color=colors[i], label=act_lab[i] ) for i in range(len(values)) ]\n",
    "l1 = plt.legend(handles=patches, bbox_to_anchor=(0.91, 0.95), loc=2, borderaxespad=0. , title='Action Combination',title_fontsize=15,fontsize=13,frameon=False)\n",
    "\n",
    "line1 = plt.Line2D(range(1), range(1), color=\"white\", marker='o',markersize=7,markerfacecolor=\"white\",markeredgecolor=\"red\")\n",
    "line2 = plt.Line2D(range(1), range(1), color=\"white\", marker='o',markersize=7,markerfacecolor=\"white\",markeredgecolor=\"white\")\n",
    "l2 = plt.legend((line1,line2),('Level Door',''), bbox_to_anchor=(1, 0.55),numpoints=1, loc=2,fontsize=13,title=\"Observation Content\",title_fontsize=15,frameon=False, borderaxespad=0.)\n",
    "\n",
    "fig.add_artist(l1)\n",
    "fig.add_artist(l2)\n",
    "\n",
    "plt.axis('off')\n",
    "#plt.show()\n",
    "plt.savefig(figure_path+'tsne_actions_AE.eps', bbox_inches='tight',dpi=300)"
   ]
  },
  {
   "cell_type": "markdown",
   "metadata": {},
   "source": [
    "#### T-SNE Colored by Action - Classifier"
   ]
  },
  {
   "cell_type": "code",
   "execution_count": null,
   "metadata": {
    "ExecuteTime": {
     "end_time": "2020-03-31T21:43:34.912156Z",
     "start_time": "2020-03-31T21:43:34.251702Z"
    }
   },
   "outputs": [],
   "source": [
    "fig = plt.figure(figsize=(10,7))\n",
    "#plt.title('T-SNE on the Visual Embedding\\nClassifier', fontsize=20)\n",
    "plt.title('Classifier', fontsize=20)\n",
    "im1 = plt.scatter(tsneC[newOrder,0],tsneC[newOrder,1],c=all_a_comb[newOrder],cmap='Accent',edgecolors=edgeCs[newOrder],linewidths =edgeWs[newOrder])\n",
    "values = np.linspace(0,5,6)\n",
    "colors = [ im1.cmap(im1.norm(value)) for value in values]\n",
    "patches = [ mpatches.Patch(color=colors[i], label=act_lab[i] ) for i in range(len(values)) ]\n",
    "l1 = plt.legend(handles=patches, bbox_to_anchor=(0.91, 0.95), loc=2, borderaxespad=0. , title='Action Combination',title_fontsize=15,fontsize=13,frameon=False)\n",
    "\n",
    "line1 = plt.Line2D(range(1), range(1), color=\"white\", marker='o',markersize=7,markerfacecolor=\"white\",markeredgecolor=\"red\")\n",
    "line2 = plt.Line2D(range(1), range(1), color=\"white\", marker='o',markersize=7,markerfacecolor=\"white\",markeredgecolor=\"white\")\n",
    "l2 = plt.legend((line1,line2),('Level Door',''), bbox_to_anchor=(1, 0.55),numpoints=1, loc=2,fontsize=13,title=\"Observation Content\",title_fontsize=15,frameon=False, borderaxespad=0.)\n",
    "\n",
    "fig.add_artist(l1)\n",
    "fig.add_artist(l2)\n",
    "\n",
    "plt.axis('off')\n",
    "#plt.show()\n",
    "plt.savefig(figure_path+'tsne_actions_C.eps', bbox_inches='tight',dpi=300)"
   ]
  },
  {
   "cell_type": "markdown",
   "metadata": {},
   "source": [
    "### Variance in Action Clusters"
   ]
  },
  {
   "cell_type": "code",
   "execution_count": null,
   "metadata": {
    "ExecuteTime": {
     "end_time": "2020-03-31T21:43:34.948028Z",
     "start_time": "2020-03-31T21:43:34.913118Z"
    }
   },
   "outputs": [],
   "source": [
    "num_act = np.unique(all_a_comb).shape[0]\n",
    "_,_,bA,wA = getClusterVariance(all_a_comb,encA,num_act)\n",
    "_,_,bAE,wAE = getClusterVariance(all_a_comb,encAE,num_act)\n",
    "_,_,bC,wC = getClusterVariance(all_a_comb,encC,num_act)"
   ]
  },
  {
   "cell_type": "code",
   "execution_count": null,
   "metadata": {
    "ExecuteTime": {
     "end_time": "2020-03-31T21:43:34.963983Z",
     "start_time": "2020-03-31T21:43:34.950021Z"
    }
   },
   "outputs": [],
   "source": [
    "print(\"Embodied Agent: Between class variance: \"+str(np.round(bA,4)))\n",
    "print(\"Embodied Agent: within class variance:\"+str(np.round(wA,4)))\n",
    "print(\"Relative class variance: \"+str(np.round(wA/bA,4)))\n",
    "print(\"Average class variance: \"+str(np.round(np.mean(wA/bA),4)))\n",
    "print(\"Average class variance, class 0-4: \"+str(np.round(np.mean(wA[:4]/bA),4))+\" Last 2: \"+str(np.round(np.mean(wA[4:]/bA),4)))\n",
    "print(\"Mean absolute distance from 1: \"+str(np.round(np.mean(np.abs(1-wA/bA)),3)))\n",
    "\n",
    "print(\"\\nAutoencoder: Between class variance: \"+str(np.round(bAE,4)))\n",
    "print(\"Autoencoder: within class variance:\"+str(np.round(wAE,4)))\n",
    "print(\"Relative class variance: \"+str(np.round(wAE/bAE,4)))\n",
    "print(\"Average class variance: \"+str(np.round(np.mean(wAE/bAE),4)))\n",
    "print(\"Average class variance, class 0-4: \"+str(np.round(np.mean(wAE[:4]/bAE),4))+\" Last 2: \"+str(np.round(np.mean(wAE[4:]/bAE),4)))\n",
    "print(\"Mean absolute distance from 1: \"+str(np.round(np.mean(np.abs(1-wAE/bAE)),3)))\n",
    "\n",
    "print(\"\\nClassifier: Between class variance: \"+str(np.round(bC,4)))\n",
    "print(\"Classifier: within class variance:\"+str(np.round(wC,4)))\n",
    "print(\"Relative class variance: \"+str(np.round(wC/bC,4)))\n",
    "print(\"Average class variance: \"+str(np.round(np.mean(wC/bC),4)))\n",
    "print(\"Average class variance, class 0-4: \"+str(np.round(np.mean(wC[:4]/bC),4))+\" Last 2: \"+str(np.round(np.mean(wC[4:]/bC),4)))\n",
    "print(\"Mean absolute distance from 1: \"+str(np.round(np.mean(np.abs(1-wC/bC)),3)))"
   ]
  },
  {
   "cell_type": "code",
   "execution_count": null,
   "metadata": {
    "ExecuteTime": {
     "end_time": "2020-03-31T21:43:35.320031Z",
     "start_time": "2020-03-31T21:43:34.965978Z"
    }
   },
   "outputs": [],
   "source": [
    "action_C = ['Forward,\\nTurn Right','Forward,\\nCamera Left,\\nTurn Right','Forward,\\nCamera Left,\\nTurn Left',\n",
    "           'Forward,\\nCamera Right,\\nTurn Right','Backward,\\nCamera Right,\\nTurn Right','Everything\\nElse']\n",
    "\n",
    "plt.figure(figsize=(10,7))\n",
    "plt.bar(np.linspace(-0.15,4.85,6),wA/bA,width=0.3,color=sns.color_palette(\"Accent\", n_colors=8)[4])\n",
    "plt.bar(np.linspace(0.15,5.15,6),wAE/bAE,width=0.3,color=sns.color_palette(\"Accent\", n_colors=8)[7])\n",
    "plt.bar(np.linspace(0.45,5.45,6),wC/bC,width=0.3,color=sns.color_palette(\"Accent\", n_colors=8)[5])\n",
    "\n",
    "#plt.title('Variance within Encodings Corresponding to one Action',fontsize=20)\n",
    "plt.xlabel('Action',fontsize=15)\n",
    "plt.ylabel('Action Variance/Overall Variance',fontsize=15)\n",
    "plt.legend(['Embodied Agent','Autoencoder','Classifier'],fontsize=15)\n",
    "\n",
    "plt.yticks(fontsize=15)\n",
    "plt.xticks(np.linspace(0,5,6),action_C,fontsize=10)\n",
    "plt.savefig(figure_path+'HighD_Action_Variances.eps', bbox_inches='tight',dpi=300)\n",
    "#plt.show()"
   ]
  },
  {
   "cell_type": "markdown",
   "metadata": {},
   "source": [
    "### Distances Within Action Clusters"
   ]
  },
  {
   "cell_type": "code",
   "execution_count": null,
   "metadata": {
    "ExecuteTime": {
     "end_time": "2020-04-02T11:11:53.524816Z",
     "start_time": "2020-04-02T11:03:18.101502Z"
    }
   },
   "outputs": [],
   "source": [
    "num_act = np.unique(all_a_comb).shape[0]\n",
    "\n",
    "allDA = getDistances(encA)\n",
    "allD_varA = np.var(allDA)\n",
    "allDA = np.mean(allDA)\n",
    "\n",
    "acc_dA = np.zeros(num_act)\n",
    "acc_d_varA = np.zeros(num_act)\n",
    "for acc in range(num_act):\n",
    "    acc_dA[acc] = np.mean(getDistances(encA[all_a_comb==acc]))\n",
    "    acc_d_varA[acc] = np.var(getDistances(encA[all_a_comb==acc]))\n",
    "\n",
    "allDAE = getDistances(encAE)\n",
    "allD_varAE = np.var(allDAE)\n",
    "allDAE = np.mean(allDAE)\n",
    "\n",
    "acc_dAE = np.zeros(num_act)\n",
    "acc_d_varAE = np.zeros(num_act)\n",
    "for acc in range(num_act):\n",
    "    acc_dAE[acc] = np.mean(getDistances(encAE[all_a_comb==acc]))\n",
    "    acc_d_varAE[acc] = np.var(getDistances(encAE[all_a_comb==acc]))\n",
    "\n",
    "allDC = getDistances(encC)\n",
    "allD_varC = np.var(allDC)\n",
    "allDC = np.mean(allDC)\n",
    "\n",
    "acc_dC = np.zeros(num_act)\n",
    "acc_d_varC = np.zeros(num_act)\n",
    "for acc in range(num_act):\n",
    "    acc_dC[acc] = np.mean(getDistances(encC[all_a_comb==acc]))\n",
    "    acc_d_varC[acc] = np.var(getDistances(encC[all_a_comb==acc]))\n"
   ]
  },
  {
   "cell_type": "code",
   "execution_count": null,
   "metadata": {
    "ExecuteTime": {
     "end_time": "2020-04-01T08:34:46.752476Z",
     "start_time": "2020-04-01T08:34:46.738513Z"
    }
   },
   "outputs": [],
   "source": [
    "print(\"Embodied Agent:\")\n",
    "print(\"Average distance within action clusters/overall distances: \"+str(np.round(np.mean(acc_dA)/allDA,3)))\n",
    "print(\"For first four actions: \"+str(np.round(np.mean(acc_dA[:4])/allDA,3)))\n",
    "print(\"Last two actions: \"+str(np.round(np.mean(acc_dA[4:])/allDA,3)))\n",
    "print(\"Mean absolute distance from 1: \"+str(np.round(np.mean(np.abs(1-acc_dA/allDA)),3)))\n",
    "\n",
    "print(\"Autoencoder:\")\n",
    "print(\"Average distance within action clusters/overall distances: \"+str(np.round(np.mean(acc_dAE)/allDAE,3)))\n",
    "print(\"For first four actions: \"+str(np.round(np.mean(acc_dAE[:4])/allDAE,3)))\n",
    "print(\"Last two actions: \"+str(np.round(np.mean(acc_dAE[4:])/allDAE,3)))\n",
    "print(\"Mean absolute distance from 1: \"+str(np.round(np.mean(np.abs(1-acc_dAE/allDAE)),3)))\n",
    "\n",
    "print(\"Classifier:\")\n",
    "print(\"Average distance within action clusters/overall distances: \"+str(np.round(np.mean(acc_dC)/allDC,3)))\n",
    "print(\"For first four actions: \"+str(np.round(np.mean(acc_dC[:4])/allDC,3)))\n",
    "print(\"Last two actions: \"+str(np.round(np.mean(acc_dC[4:])/allDC,3)))\n",
    "print(\"Mean absolute distance from 1: \"+str(np.round(np.mean(np.abs(1-acc_dC/allDC)),3)))"
   ]
  },
  {
   "cell_type": "code",
   "execution_count": null,
   "metadata": {
    "ExecuteTime": {
     "end_time": "2020-04-01T08:50:39.132074Z",
     "start_time": "2020-04-01T08:50:38.792980Z"
    }
   },
   "outputs": [],
   "source": [
    "action_C = ['Forward,\\nTurn Right','Forward,\\nCamera Left,\\nTurn Right','Forward,\\nCamera Left,\\nTurn Left',\n",
    "           'Forward,\\nCamera Right,\\nTurn Right','Backward,\\nCamera Right,\\nTurn Right','Everything\\nElse']\n",
    "\n",
    "plt.figure(figsize=(10,7))\n",
    "\n",
    "plt.bar(np.linspace(-0.15,4.85,6),acc_dA/allDA,width=0.3,color=sns.color_palette(\"Accent\", n_colors=8)[4])\n",
    "plt.bar(np.linspace(0.15,5.15,6),acc_dAE/allDAE,width=0.3,color=sns.color_palette(\"Accent\", n_colors=8)[7])\n",
    "plt.bar(np.linspace(0.45,5.45,6),acc_dC/allDC,width=0.3,color=sns.color_palette(\"Accent\", n_colors=8)[5])\n",
    "\n",
    "#plt.title('Distance Within Encodings Corresponding to one Action',fontsize=20)\n",
    "plt.xlabel('Action',fontsize=15)\n",
    "plt.ylabel('Action Distance/Overall Distance',fontsize=15)\n",
    "plt.legend(['Embodied Agent','Autoencoder','Classifier'],fontsize=15)\n",
    "\n",
    "plt.yticks(fontsize=15)\n",
    "plt.xticks(np.linspace(0,5,6),action_C,fontsize=10)\n",
    "plt.savefig(figure_path+'HighD_Action_Distances.eps', bbox_inches='tight',dpi=300)\n",
    "#plt.show()"
   ]
  },
  {
   "cell_type": "markdown",
   "metadata": {},
   "source": [
    "### Distances Between Pairs of Cluster Combinations & Cluster Distance Index (CDI)"
   ]
  },
  {
   "cell_type": "code",
   "execution_count": null,
   "metadata": {
    "ExecuteTime": {
     "end_time": "2020-04-02T11:13:17.992844Z",
     "start_time": "2020-04-02T11:11:53.554682Z"
    }
   },
   "outputs": [],
   "source": [
    "acrossA = []\n",
    "for c1,c2 in combinations(np.linspace(0,5,6), 2):\n",
    "    acd = np.mean(getAcrossD(encA[all_a_comb==c1],encA[all_a_comb==c2]))\n",
    "    print(str(c1)+' - '+str(c2)+' = '+str(acd))\n",
    "    acrossA.append(acd)"
   ]
  },
  {
   "cell_type": "code",
   "execution_count": null,
   "metadata": {
    "ExecuteTime": {
     "end_time": "2020-04-02T11:14:39.046561Z",
     "start_time": "2020-04-02T11:13:18.027717Z"
    }
   },
   "outputs": [],
   "source": [
    "acrossAE = []\n",
    "for c1,c2 in combinations(np.linspace(0,5,6), 2):\n",
    "    acd = np.mean(getAcrossD(encAE[all_a_comb==c1],encAE[all_a_comb==c2]))\n",
    "    print(str(c1)+' - '+str(c2)+' = '+str(acd))\n",
    "    acrossAE.append(acd)"
   ]
  },
  {
   "cell_type": "code",
   "execution_count": null,
   "metadata": {
    "ExecuteTime": {
     "end_time": "2020-04-02T11:16:05.159895Z",
     "start_time": "2020-04-02T11:14:39.077488Z"
    }
   },
   "outputs": [],
   "source": [
    "acrossC = []\n",
    "for c1,c2 in combinations(np.linspace(0,5,6), 2):\n",
    "    acd = np.mean(getAcrossD(encC[all_a_comb==c1],encC[all_a_comb==c2]))\n",
    "    print(str(c1)+' - '+str(c2)+' = '+str(acd))\n",
    "    acrossC.append(acd)"
   ]
  },
  {
   "cell_type": "code",
   "execution_count": null,
   "metadata": {
    "ExecuteTime": {
     "end_time": "2020-04-02T11:16:05.196797Z",
     "start_time": "2020-04-02T11:16:05.191809Z"
    }
   },
   "outputs": [],
   "source": [
    "withinA = np.mean(acc_dA)\n",
    "withinAE = np.mean(acc_dAE)\n",
    "withinC = np.mean(acc_dC)\n",
    "print('Average Distance within Clusters - Embodied Agent: '+str(withinA))\n",
    "print('Average Distance within Clusters - Autoencoder: '+str(withinAE))\n",
    "print('Average Distance within Clusters - Classifier: '+str(withinC))"
   ]
  },
  {
   "cell_type": "code",
   "execution_count": null,
   "metadata": {
    "ExecuteTime": {
     "end_time": "2020-04-02T11:16:05.230578Z",
     "start_time": "2020-04-02T11:16:05.225590Z"
    }
   },
   "outputs": [],
   "source": [
    "acrossAllA = np.mean(acrossA)\n",
    "acrossAllAE = np.mean(acrossAE)\n",
    "acrossAllC = np.mean(acrossC)\n",
    "print('Average Distance across all Cluster Combinations - Embodied Agent: '+str(acrossAllA))\n",
    "print('Average Distance across all Cluster Combinations - Autoencoder: '+str(acrossAllAE))\n",
    "print('Average Distance across all Cluster Combinations - Classifier: '+str(acrossAllC))"
   ]
  },
  {
   "cell_type": "code",
   "execution_count": null,
   "metadata": {
    "ExecuteTime": {
     "end_time": "2020-04-02T11:16:05.269474Z",
     "start_time": "2020-04-02T11:16:05.262491Z"
    }
   },
   "outputs": [],
   "source": [
    "CDI_A = (acrossAllA-withinA)/allDA\n",
    "CDI_AE = (acrossAllAE-withinAE)/allDAE\n",
    "CDI_C = (acrossAllC-withinC)/allDC\n",
    "print('Cluster Distance Index (CDI) - Embodied Agent: '+str(CDI_A))\n",
    "print('Cluster Distance Index (CDI) - Autoencoder: '+str(CDI_AE))\n",
    "print('Cluster Distance Index (CDI) - Classifier: '+str(CDI_C))"
   ]
  },
  {
   "cell_type": "markdown",
   "metadata": {},
   "source": [
    "### Cluster Correlations & Cluster Correlation Index (CCI)"
   ]
  },
  {
   "cell_type": "code",
   "execution_count": null,
   "metadata": {
    "ExecuteTime": {
     "end_time": "2020-04-02T12:08:33.721116Z",
     "start_time": "2020-04-02T11:16:05.303385Z"
    }
   },
   "outputs": [],
   "source": [
    "allD_cA = getCorDistances(encA)\n",
    "allD_cA = np.mean(allD_cA)\n",
    "print('Embodied Agent - Overall Correlation Distances: '+str(allD_cA))\n",
    "\n",
    "acc_d_cA = np.zeros(num_act)\n",
    "for acc in range(num_act):\n",
    "    acc_d_cA[acc] = np.mean(getCorDistances(encA[all_a_comb==acc]))\n",
    "print('Embodied Agent - Cluster Distances: '+str(acc_d_cA))\n",
    "\n",
    "allD_cAE = getCorDistances(encAE)\n",
    "allD_cAE = np.mean(allD_cAE)\n",
    "print('Autoencoder - Overall Correlation Distances: '+str(allD_cAE))\n",
    "\n",
    "acc_d_cAE = np.zeros(num_act)\n",
    "for acc in range(num_act):\n",
    "    acc_d_cAE[acc] = np.mean(getCorDistances(encAE[all_a_comb==acc]))\n",
    "print('Autoencoder - Cluster Distances: '+str(acc_d_cAE))\n",
    "\n",
    "allD_cC = getCorDistances(encC)\n",
    "allD_cC = np.mean(allD_cC)\n",
    "print('Classifier - Overall Correlation Distances: '+str(allD_cC))\n",
    "\n",
    "acc_d_cC = np.zeros(num_act)\n",
    "for acc in range(num_act):\n",
    "    acc_d_cC[acc] = np.mean(getCorDistances(encC[all_a_comb==acc]))\n",
    "print('Classifier - Cluster Distances: '+str(acc_d_cC))\n",
    "\n",
    "within_cA = np.mean(acc_d_cA)\n",
    "within_cAE = np.mean(acc_d_cAE)\n",
    "within_cC = np.mean(acc_d_cC)\n",
    "within4_cA = np.mean(acc_d_cA[:4])\n",
    "\n",
    "across_corA = []\n",
    "for c1,c2 in combinations(np.linspace(0,5,6), 2):\n",
    "    acd = np.mean(getAcrossCorD(encA[all_a_comb==c1],encA[all_a_comb==c2]))\n",
    "    print(str(c1)+' - '+str(c2)+' = '+str(acd))\n",
    "    across_corA.append(acd)\n",
    "acrossAll_cA = np.mean(across_corA)\n",
    "print('Embodied Agent - Across Correlation Distance (Avg): '+str(acrossAll_cA))\n",
    "    \n",
    "across_corAE = []\n",
    "for c1,c2 in combinations(np.linspace(0,5,6), 2):\n",
    "    acd = np.mean(getAcrossCorD(encAE[all_a_comb==c1],encAE[all_a_comb==c2]))\n",
    "    print(str(c1)+' - '+str(c2)+' = '+str(acd))\n",
    "    across_corAE.append(acd)\n",
    "acrossAll_cAE = np.mean(across_corAE)\n",
    "print('Autoencoder - Across Correlation Distance (Avg): '+str(acrossAll_cAE))\n",
    "\n",
    "across_corC = []\n",
    "for c1,c2 in combinations(np.linspace(0,5,6), 2):\n",
    "    acd = np.mean(getAcrossCorD(encC[all_a_comb==c1],encC[all_a_comb==c2]))\n",
    "    print(str(c1)+' - '+str(c2)+' = '+str(acd))\n",
    "    across_corC.append(acd)\n",
    "acrossAll_cC = np.mean(across_corC)\n",
    "print('Classifier - Across Correlation Distance (Avg): '+str(acrossAll_cC))\n",
    "    \n",
    "print('CCI (corr-dist) - Embodied Agent: '+str((acrossAll_cA-within_cA)/allD_cA))\n",
    "print('CCI (corr-dist) - Autoencoder: '+str((acrossAll_cAE-within_cAE)/allD_cAE))\n",
    "print('CCI (corr-dist) - Classifier: '+str((acrossAll_cC-within_cC)/allD_cC))"
   ]
  },
  {
   "cell_type": "markdown",
   "metadata": {},
   "source": [
    "### Distances Between 'Level Door' and 'No Level Door' Frames"
   ]
  },
  {
   "cell_type": "code",
   "execution_count": null,
   "metadata": {
    "ExecuteTime": {
     "end_time": "2020-04-01T07:14:34.606494Z",
     "start_time": "2020-04-01T07:14:34.601509Z"
    }
   },
   "outputs": [],
   "source": [
    "label_test = np.array(hand_l['Label'])\n",
    "doorFrames = label_test\n",
    "doorFrames[doorFrames!=6] = 0\n",
    "doorFrames[doorFrames==6] = 1"
   ]
  },
  {
   "cell_type": "code",
   "execution_count": null,
   "metadata": {
    "ExecuteTime": {
     "end_time": "2020-04-01T07:19:24.541952Z",
     "start_time": "2020-04-01T07:14:35.366969Z"
    }
   },
   "outputs": [],
   "source": [
    "doorDA = getDistances(encA[doorFrames==1])\n",
    "noDoorDA = getDistances(encA[doorFrames==0])\n",
    "\n",
    "doorDAE = getDistances(encAE[doorFrames==1])\n",
    "noDoorDAE = getDistances(encAE[doorFrames==0])\n",
    "\n",
    "doorDC = getDistances(encA[doorFrames==1])\n",
    "noDoorDC = getDistances(encA[doorFrames==0])"
   ]
  },
  {
   "cell_type": "code",
   "execution_count": null,
   "metadata": {
    "ExecuteTime": {
     "end_time": "2020-04-01T07:20:51.948475Z",
     "start_time": "2020-04-01T07:20:50.225140Z"
    }
   },
   "outputs": [],
   "source": [
    "print(\"Embodied Agent\")\n",
    "print(\"Door frames: Average Distance = \"+str(np.round(np.mean(doorDA)/allDA,3))+\" Var = \"+str(np.round(np.var(doorDA),3)))\n",
    "print(\"No Door frames: Average Distance = \"+str(np.round(np.mean(noDoorDA)/allDA,3))+\" Var = \"+str(np.round(np.var(noDoorDA),3)))\n",
    "\n",
    "print(\"Autoencoder\")\n",
    "print(\"Door frames: Average Distance = \"+str(np.round(np.mean(doorDAE)/allDAE,3))+\" Var = \"+str(np.round(np.var(doorDAE),3)))\n",
    "print(\"No Door frames: Average Distance = \"+str(np.round(np.mean(noDoorDAE)/allDAE,3))+\" Var = \"+str(np.round(np.var(noDoorDAE),3)))\n",
    "\n",
    "print(\"Classifier\")\n",
    "print(\"Door frames: Average Distance = \"+str(np.round(np.mean(doorDC)/allDC,3))+\" Var = \"+str(np.round(np.var(doorDC),3)))\n",
    "print(\"No Door frames: Average Distance = \"+str(np.round(np.mean(noDoorDC)/allDC,3))+\" Var = \"+str(np.round(np.var(noDoorDC),3)))"
   ]
  }
 ],
 "metadata": {
  "hide_input": false,
  "kernelspec": {
   "display_name": "Python 3",
   "language": "python",
   "name": "python3"
  },
  "language_info": {
   "codemirror_mode": {
    "name": "ipython",
    "version": 3
   },
   "file_extension": ".py",
   "mimetype": "text/x-python",
   "name": "python",
   "nbconvert_exporter": "python",
   "pygments_lexer": "ipython3",
   "version": "3.6.3"
  },
  "toc": {
   "base_numbering": 1,
   "nav_menu": {},
   "number_sections": true,
   "sideBar": true,
   "skip_h1_title": false,
   "title_cell": "Table of Contents",
   "title_sidebar": "Contents",
   "toc_cell": false,
   "toc_position": {},
   "toc_section_display": true,
   "toc_window_display": false
  },
  "varInspector": {
   "cols": {
    "lenName": 16,
    "lenType": 16,
    "lenVar": 40
   },
   "kernels_config": {
    "python": {
     "delete_cmd_postfix": "",
     "delete_cmd_prefix": "del ",
     "library": "var_list.py",
     "varRefreshCmd": "print(var_dic_list())"
    },
    "r": {
     "delete_cmd_postfix": ") ",
     "delete_cmd_prefix": "rm(",
     "library": "var_list.r",
     "varRefreshCmd": "cat(var_dic_list()) "
    }
   },
   "types_to_exclude": [
    "module",
    "function",
    "builtin_function_or_method",
    "instance",
    "_Feature"
   ],
   "window_display": false
  }
 },
 "nbformat": 4,
 "nbformat_minor": 2
}
