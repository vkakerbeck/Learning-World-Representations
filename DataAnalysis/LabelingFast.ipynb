{
 "cells": [
  {
   "cell_type": "code",
   "execution_count": 1,
   "metadata": {
    "ExecuteTime": {
     "end_time": "2020-06-15T14:07:35.480962Z",
     "start_time": "2020-06-15T14:07:34.426724Z"
    }
   },
   "outputs": [],
   "source": [
    "import os\n",
    "from shutil import copyfile\n",
    "import matplotlib.pyplot as plt\n",
    "import numpy as np\n",
    "import cv2\n",
    "import imageio\n",
    "import scipy.misc\n",
    "import glob\n",
    "import pandas as pd"
   ]
  },
  {
   "cell_type": "code",
   "execution_count": 2,
   "metadata": {
    "ExecuteTime": {
     "end_time": "2020-06-15T14:07:36.394519Z",
     "start_time": "2020-06-15T14:07:36.380556Z"
    }
   },
   "outputs": [],
   "source": [
    "def rgb2L(img):\n",
    "    maskAgent = cv2.inRange(img, (5,0,65), (15,2,75))\n",
    "    maskLD = cv2.inRange(img, (60,62,22), (70,67,30))\n",
    "    maskGD = cv2.inRange(img, (10,45,10), (50,105,50))\n",
    "    maskKD = cv2.inRange(img, (60,30,30), (70,35,35))\n",
    "    maskED = cv2.inRange(img, (27,30,25), (32,35,45))\n",
    "    maskPD = cv2.inRange(img, (55,30,70), (70,45,80))\n",
    "    maskK = cv2.inRange(img, (50,60,0), (70,80,20))\n",
    "    maskO = cv2.inRange(img, (5,60,65), (15,74,85))\n",
    "    maskW = cv2.inRange(img, (0,0,0), (2,2,2))\n",
    "    maskF = cv2.inRange(img, (45,38,22), (60,50,26))\n",
    "    maskP = cv2.inRange(img, (25,2,60), (40,8,70))\n",
    "    \n",
    "    sem = np.zeros((168,168))\n",
    "    sem[maskAgent==255] = 1\n",
    "    sem[maskLD==255] = 2\n",
    "    sem[maskGD==255] = 3\n",
    "    sem[maskKD==255] = 4\n",
    "    sem[maskED==255] = 5\n",
    "    sem[maskPD==255] = 6\n",
    "    sem[maskK==255] = 7\n",
    "    sem[maskO==255] = 8\n",
    "    sem[maskW==255] = 9\n",
    "    sem[maskF==255] = 10\n",
    "    sem[maskP==255] = 11\n",
    "    return sem\n",
    "\n",
    "label_dict = {\"Unknown\": 0,\n",
    "              \"Agent\": 1,\n",
    "          \"Level Door\": 2,\n",
    "          \"Regular Door\": 3 ,\n",
    "          \"Key Door\": 4 ,\n",
    "          \"Entry Door\": 5 ,\n",
    "          \"Puzzle Door\": 6 ,\n",
    "          \"Key\": 7 ,\n",
    "          \"Time Orb\": 8 ,\n",
    "          \"Wall\":9,\n",
    "          \"Floor\": 10,\n",
    "        \"Puzzle\":11}\n",
    "inv_map = {v: k for k, v in label_dict.items()}"
   ]
  },
  {
   "cell_type": "code",
   "execution_count": 3,
   "metadata": {},
   "outputs": [],
   "source": [
    "def getRewardPer(semantic):#XX merge this into one function\n",
    "    #Returns percentage of pixels containing a rewarding object -> door, key, orb, exit, doorZone, lockedDoorRegular\n",
    "    rewarding = [2,3,4,7,8]\n",
    "    r = 0\n",
    "    for i in range(semantic.shape[0]):\n",
    "        if semantic[i] in rewarding:\n",
    "            r = r + 1\n",
    "    return r/semantic.shape[0]\n",
    "def getDoorPer(semantic):\n",
    "    #Returns percentage of pixels containing a rewarding object -> door, key, orb, exit, doorZone, lockedDoorRegular\n",
    "    rewarding = [2,3,4]#+8 for door area\n",
    "    r = 0\n",
    "    for i in range(semantic.shape[0]):\n",
    "        if semantic[i] in rewarding:\n",
    "            r = r + 1\n",
    "    return r/semantic.shape[0]\n",
    "def getKeyPer(semantic):\n",
    "    #Returns percentage of pixels containing a rewarding object -> door, key, orb, exit, doorZone, lockedDoorRegular\n",
    "    rewarding = [7]#+8 for door area\n",
    "    r = 0\n",
    "    for i in range(semantic.shape[0]):\n",
    "        if semantic[i] in rewarding:\n",
    "            r = r + 1\n",
    "    return r/semantic.shape[0]\n",
    "def getOrbPer(semantic):\n",
    "    #Returns percentage of pixels containing a rewarding object -> door, key, orb, exit, doorZone, lockedDoorRegular\n",
    "    rewarding = [8]#+8 for door area\n",
    "    r = 0\n",
    "    for i in range(semantic.shape[0]):\n",
    "        if semantic[i] in rewarding:\n",
    "            r = r + 1\n",
    "    return r/semantic.shape[0]\n",
    "def getLevelDoorPer(semantic):\n",
    "    rewarding = [2]\n",
    "    r = 0\n",
    "    for i in range(semantic.shape[0]):\n",
    "        if semantic[i] in rewarding:\n",
    "            r = r + 1\n",
    "    return r/semantic.shape[0]\n",
    "def getGreenDoorPer(semantic):\n",
    "    rewarding = [3]\n",
    "    r = 0\n",
    "    for i in range(semantic.shape[0]):\n",
    "        if semantic[i] in rewarding:\n",
    "            r = r + 1\n",
    "    return r/semantic.shape[0]\n",
    "def getKeyDoorPer(semantic):\n",
    "    rewarding = [4]\n",
    "    r = 0\n",
    "    for i in range(semantic.shape[0]):\n",
    "        if semantic[i] in rewarding:\n",
    "            r = r + 1\n",
    "    return r/semantic.shape[0]\n",
    "def getOtherDoorPer(semantic):\n",
    "    rewarding = [5,6]\n",
    "    r = 0\n",
    "    for i in range(semantic.shape[0]):\n",
    "        if semantic[i] in rewarding:\n",
    "            r = r + 1\n",
    "    return r/semantic.shape[0]\n",
    "def getPuzzlePer(semantic):\n",
    "    rewarding = [11]\n",
    "    r = 0\n",
    "    for i in range(semantic.shape[0]):\n",
    "        if semantic[i] in rewarding:\n",
    "            r = r + 1\n",
    "    return r/semantic.shape[0]\n",
    "def getFloorPer(semantic):\n",
    "    rewarding = [10]\n",
    "    r = 0\n",
    "    for i in range(semantic.shape[0]):\n",
    "        if semantic[i] in rewarding:\n",
    "            r = r + 1\n",
    "    return r/semantic.shape[0]\n",
    "def getUnknownPer(semantic):\n",
    "    rewarding = [0]\n",
    "    r = 0\n",
    "    for i in range(semantic.shape[0]):\n",
    "        if semantic[i] in rewarding:\n",
    "            r = r + 1\n",
    "    return r/semantic.shape[0]"
   ]
  },
  {
   "cell_type": "code",
   "execution_count": 4,
   "metadata": {},
   "outputs": [],
   "source": [
    "upper = 0.8\n",
    "lower = 0.0001\n",
    "def getClassification(img):\n",
    "    l = rgb2L(img).flatten()\n",
    "    classification = [0,0,0,0]\n",
    "    lDoor = getLevelDoorPer(l)\n",
    "    gDoor = getGreenDoorPer(l)\n",
    "    kDoor = getKeyDoorPer(l)\n",
    "    oDoor = getOtherDoorPer(l)\n",
    "    maxDoor = np.max([lDoor,gDoor,kDoor])\n",
    "    if getDoorPer(l)>upper or getFloorPer(l)<0.1 or getUnknownPer(l)>0.1:\n",
    "        return [-1,-1,-1,-1]   \n",
    "    if (lDoor>lower)&(lDoor==maxDoor):\n",
    "        classification[0] = 1\n",
    "    elif (gDoor>lower)&(gDoor==maxDoor):\n",
    "        classification[0] = 2\n",
    "    elif (kDoor>lower)&(kDoor==maxDoor):\n",
    "        classification[0] = 3\n",
    "    elif (oDoor>lower)&(classification[0]==0):#only this if no other door in view to prevent artifacts\n",
    "        classification[0] = 4\n",
    "        \n",
    "    if getKeyPer(l)>lower:\n",
    "        classification[1] = 1\n",
    "    \n",
    "    if getOrbPer(l)>lower:\n",
    "        classification[2] = 1\n",
    "    \n",
    "    if getPuzzlePer(l)>lower*0.01:\n",
    "        classification[3] = 1\n",
    "    return classification\n"
   ]
  },
  {
   "cell_type": "code",
   "execution_count": 10,
   "metadata": {},
   "outputs": [],
   "source": [
    "#source_path = './Results/TowerTraining/Recordings/CuriousNoR/2800_0/'# Careful here! folder already hand checked!\n",
    "#dest_path = './Results/TowerTraining/Recordings/CuriousNoR/2800_0/Sorted/'"
   ]
  },
  {
   "cell_type": "code",
   "execution_count": 6,
   "metadata": {},
   "outputs": [],
   "source": [
    "for i in range(0,2800):\n",
    "    im_path = source_path + \"Labels/img\"+str(i)+\".png\"\n",
    "    labels = imageio.imread(im_path)\n",
    "    c = getClassification(labels)\n",
    "    #print(str(i)+': '+str(c))\n",
    "    try:\n",
    "        copyfile(source_path+'/RGB/img'+str(i)+'.png', dest_path+str(c)+'/img'+str(i)+'.png')\n",
    "    except:\n",
    "        os.mkdir(dest_path+str(c))\n",
    "        copyfile(source_path+'/RGB/img'+str(i)+'.png', dest_path+str(c)+'/img'+str(i)+'.png')"
   ]
  },
  {
   "cell_type": "code",
   "execution_count": 3,
   "metadata": {
    "ExecuteTime": {
     "end_time": "2020-06-15T14:07:44.478304Z",
     "start_time": "2020-06-15T14:07:44.475306Z"
    }
   },
   "outputs": [],
   "source": [
    "dest_path = './Results/TowerTraining/BalancedTestSetAll/'"
   ]
  },
  {
   "cell_type": "code",
   "execution_count": 4,
   "metadata": {
    "ExecuteTime": {
     "end_time": "2020-06-15T14:08:01.702552Z",
     "start_time": "2020-06-15T14:07:58.527990Z"
    },
    "code_folding": [
     5
    ]
   },
   "outputs": [],
   "source": [
    "labels = pd.DataFrame(columns=['ID','Door','Key','Orb','Puzzle'])\n",
    "for folder in os.listdir(dest_path):\n",
    "    folderLabel = folder[1:-1].split(',')\n",
    "    for frame in os.listdir(dest_path + '/' + folder):\n",
    "        frameNum = int(frame[3:].split('.')[0])\n",
    "        labels = labels.append({'ID':frameNum,'Door':int(folderLabel[0]),'Key':int(folderLabel[1]),\n",
    "                       'Orb':int(folderLabel[2]),'Puzzle':int(folderLabel[3])},ignore_index=True)\n",
    "        \n",
    "labels = labels.sort_values(['ID']).reset_index()[['ID','Door','Key','Orb','Puzzle']]\n",
    "labels.to_csv(dest_path + 'labels.csv')"
   ]
  },
  {
   "cell_type": "code",
   "execution_count": null,
   "metadata": {},
   "outputs": [],
   "source": []
  }
 ],
 "metadata": {
  "hide_input": false,
  "kernelspec": {
   "display_name": "Python 3",
   "language": "python",
   "name": "python3"
  },
  "language_info": {
   "codemirror_mode": {
    "name": "ipython",
    "version": 3
   },
   "file_extension": ".py",
   "mimetype": "text/x-python",
   "name": "python",
   "nbconvert_exporter": "python",
   "pygments_lexer": "ipython3",
   "version": "3.6.8"
  },
  "toc": {
   "base_numbering": 1,
   "nav_menu": {},
   "number_sections": true,
   "sideBar": true,
   "skip_h1_title": false,
   "title_cell": "Table of Contents",
   "title_sidebar": "Contents",
   "toc_cell": false,
   "toc_position": {},
   "toc_section_display": true,
   "toc_window_display": false
  },
  "varInspector": {
   "cols": {
    "lenName": 16,
    "lenType": 16,
    "lenVar": 40
   },
   "kernels_config": {
    "python": {
     "delete_cmd_postfix": "",
     "delete_cmd_prefix": "del ",
     "library": "var_list.py",
     "varRefreshCmd": "print(var_dic_list())"
    },
    "r": {
     "delete_cmd_postfix": ") ",
     "delete_cmd_prefix": "rm(",
     "library": "var_list.r",
     "varRefreshCmd": "cat(var_dic_list()) "
    }
   },
   "types_to_exclude": [
    "module",
    "function",
    "builtin_function_or_method",
    "instance",
    "_Feature"
   ],
   "window_display": false
  }
 },
 "nbformat": 4,
 "nbformat_minor": 2
}
