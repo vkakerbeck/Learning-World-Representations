{
 "cells": [
  {
   "cell_type": "code",
   "execution_count": null,
   "metadata": {
    "ExecuteTime": {
     "end_time": "2020-07-17T07:26:22.083243Z",
     "start_time": "2020-07-17T07:25:45.359369Z"
    }
   },
   "outputs": [],
   "source": [
    "import os\n",
    "import numpy as np;\n",
    "import pandas as pd\n",
    "import matplotlib.pyplot as plt\n",
    "from scipy import misc\n",
    "from keras.models import Sequential,Model\n",
    "from keras.layers.convolutional import Conv3D, Conv2D, UpSampling2D,Conv2DTranspose\n",
    "from keras.layers.convolutional_recurrent import ConvLSTM2D\n",
    "from keras.layers.normalization import BatchNormalization\n",
    "from keras.layers import Dense,MaxPooling2D,TimeDistributed,Input,concatenate,Flatten,Reshape,LSTM,Lambda\n",
    "import tensorflow as tf\n",
    "import tensorflow.contrib.layers as c_layers\n",
    "from keras.preprocessing.image import ImageDataGenerator\n",
    "import seaborn as sns"
   ]
  },
  {
   "cell_type": "code",
   "execution_count": null,
   "metadata": {
    "ExecuteTime": {
     "end_time": "2020-07-17T07:26:22.819161Z",
     "start_time": "2020-07-17T07:26:22.092211Z"
    }
   },
   "outputs": [],
   "source": [
    "path = 'C:/Users/vkakerbeck/Dropbox/PhD/'\n",
    "#allI = os.listdir(path+'Data/ObstacleTower/train')"
   ]
  },
  {
   "cell_type": "code",
   "execution_count": null,
   "metadata": {
    "ExecuteTime": {
     "end_time": "2020-07-17T07:26:31.074925Z",
     "start_time": "2020-07-17T07:26:30.745789Z"
    }
   },
   "outputs": [],
   "source": [
    "from keras import backend as K\n",
    "K.clear_session()\n",
    "\n",
    "def swish(input_activation):\n",
    "    \"\"\"Swish activation function. For more info: https://arxiv.org/abs/1710.05941\"\"\"\n",
    "    return tf.multiply(input_activation, tf.nn.sigmoid(input_activation))\n",
    "\n",
    "inImg = Input(batch_shape=(None,168, 168, 3),name=\"input_1\")\n",
    "conv = Conv2D(filters=16, kernel_size=[8, 8], strides=[4, 4],activation=tf.nn.elu, name=\"conv_1\")(inImg)\n",
    "print(conv)\n",
    "conv = Conv2D(filters=32, kernel_size=[4, 4], strides=[2, 2],activation=tf.nn.elu, name=\"conv_2\")(conv)\n",
    "print(conv)\n",
    "flat = Reshape((19*19*32,))(conv)#Flatten()(conv)\n",
    "print(flat)\n",
    "dens = Dense(256,activation=swish,kernel_initializer=c_layers.variance_scaling_initializer(1.0), name=\"dens_1\")(flat)\n",
    "print(dens)\n",
    "enc = Dense(256,activation=swish,kernel_initializer=c_layers.variance_scaling_initializer(1.0), name=\"dens_2\")(dens)\n",
    "print(enc)\n",
    "de_dens = Dense(20*20*32,activation=swish,kernel_initializer=c_layers.variance_scaling_initializer(1.0), name=\"dens_3\")(enc)\n",
    "print(de_dens)\n",
    "shaped = Reshape((20, 20, 32))(de_dens)\n",
    "print(shaped)\n",
    "de_conv = Conv2DTranspose(filters=16, kernel_size=[4, 4], strides=[2, 2],activation=tf.nn.elu, name=\"deconv_1\")(shaped)\n",
    "print(de_conv)\n",
    "#de_conv = Conv2DTranspose(filters=16, kernel_size=[8, 8], strides=[4, 4],activation=tf.nn.elu, name=\"deconv_2\")(de_conv)\n",
    "#print(de_conv)\n",
    "prediction = Conv2DTranspose(filters=3, kernel_size=[8, 8], strides=[4, 4],padding='same',activation=tf.nn.elu, name=\"deconv_3\")(de_conv)\n",
    "print(prediction)\n",
    "model = Model(inputs=inImg, outputs=prediction)\n",
    "\n",
    "#model.compile(optimizer='adadelta',loss='binary_crossentropy',metrics=['accuracy','loss'])\n",
    "#model.compile(optimizer='adadelta',loss='mean_squared_error',metrics=['accuracy','mse'])\n",
    "optimizer = tf.train.AdamOptimizer(0.0001)\n",
    "model.compile(optimizer=optimizer,loss='mean_squared_error',metrics=['accuracy','mse'])"
   ]
  },
  {
   "cell_type": "code",
   "execution_count": null,
   "metadata": {
    "ExecuteTime": {
     "end_time": "2020-07-02T10:19:56.956691Z",
     "start_time": "2020-07-02T10:19:56.949710Z"
    },
    "scrolled": false
   },
   "outputs": [],
   "source": [
    "model.summary()"
   ]
  },
  {
   "cell_type": "code",
   "execution_count": null,
   "metadata": {
    "ExecuteTime": {
     "end_time": "2020-07-17T07:26:45.080526Z",
     "start_time": "2020-07-17T07:26:34.028031Z"
    }
   },
   "outputs": [],
   "source": [
    "train_datagen = ImageDataGenerator(\n",
    "        rescale=1./255,\n",
    "        shear_range=0.2,\n",
    "        zoom_range=0.2,\n",
    "        horizontal_flip=True)\n",
    "\n",
    "\n",
    "train_generator = train_datagen.flow_from_directory(\n",
    "    directory=path+'Data/ObstacleTower/',\n",
    "    target_size=(168, 168),\n",
    "    color_mode=\"rgb\",\n",
    "    batch_size=256,\n",
    "    class_mode=\"input\",\n",
    "    shuffle=True,\n",
    "    seed=42\n",
    ")"
   ]
  },
  {
   "cell_type": "code",
   "execution_count": null,
   "metadata": {
    "ExecuteTime": {
     "end_time": "2020-07-03T04:03:27.730182Z",
     "start_time": "2020-07-02T10:20:07.698786Z"
    }
   },
   "outputs": [],
   "source": [
    "info = model.fit_generator(train_generator,epochs=50)"
   ]
  },
  {
   "cell_type": "code",
   "execution_count": null,
   "metadata": {
    "ExecuteTime": {
     "end_time": "2020-07-03T07:42:27.765995Z",
     "start_time": "2020-07-03T07:42:27.543877Z"
    }
   },
   "outputs": [],
   "source": [
    "model.save_weights(path+'autoencoder/aemodelAdam50E.h5')"
   ]
  },
  {
   "cell_type": "code",
   "execution_count": null,
   "metadata": {
    "ExecuteTime": {
     "end_time": "2020-07-17T07:26:45.705077Z",
     "start_time": "2020-07-17T07:26:45.123412Z"
    }
   },
   "outputs": [],
   "source": [
    "model.load_weights('./Results/TowerTraining/Recordings/Standard/3999_16.100/autoencoder/aemodelAdam50E.h5')"
   ]
  },
  {
   "cell_type": "code",
   "execution_count": null,
   "metadata": {
    "ExecuteTime": {
     "start_time": "2019-10-07T10:59:48.859Z"
    }
   },
   "outputs": [],
   "source": [
    "allI = np.append(allI,info.history['loss'])"
   ]
  },
  {
   "cell_type": "code",
   "execution_count": null,
   "metadata": {
    "ExecuteTime": {
     "end_time": "2020-07-03T07:20:43.724734Z",
     "start_time": "2020-07-03T07:20:23.619257Z"
    }
   },
   "outputs": [],
   "source": [
    "plt.plot(allI)\n",
    "\n",
    "plt.title('model loss')\n",
    "plt.ylabel('loss')\n",
    "plt.xlabel('epoch')\n",
    "\n",
    "plt.show()"
   ]
  },
  {
   "cell_type": "code",
   "execution_count": null,
   "metadata": {
    "ExecuteTime": {
     "end_time": "2020-07-17T07:26:52.527036Z",
     "start_time": "2020-07-17T07:26:52.002901Z"
    }
   },
   "outputs": [],
   "source": [
    "i=60\n",
    "out = model.predict(data[i].reshape((1,168,168,3)))\n",
    "plt.figure()\n",
    "plt.subplot(1,2,1)\n",
    "plt.imshow(data[i])\n",
    "plt.axis('off')\n",
    "plt.subplot(1,2,2)\n",
    "plt.imshow(out[0])\n",
    "plt.axis('off')\n",
    "plt.show()"
   ]
  },
  {
   "cell_type": "code",
   "execution_count": null,
   "metadata": {
    "ExecuteTime": {
     "end_time": "2020-07-17T07:26:58.647178Z",
     "start_time": "2020-07-17T07:26:58.560411Z"
    }
   },
   "outputs": [],
   "source": [
    "folder_name = '3999_16.100'\n",
    "path = './Results/TowerTraining/Recordings/Standard/'+folder_name+'/'\n",
    "\n",
    "obs = np.load(path+'visobs.npy', mmap_mode='r')"
   ]
  },
  {
   "cell_type": "code",
   "execution_count": null,
   "metadata": {
    "ExecuteTime": {
     "end_time": "2020-07-17T07:27:17.774328Z",
     "start_time": "2020-07-17T07:26:59.628156Z"
    }
   },
   "outputs": [],
   "source": [
    "out = model.predict(obs)"
   ]
  },
  {
   "cell_type": "code",
   "execution_count": null,
   "metadata": {
    "ExecuteTime": {
     "end_time": "2020-07-17T07:27:31.305724Z",
     "start_time": "2020-07-17T07:27:25.578345Z"
    }
   },
   "outputs": [],
   "source": [
    "np.save(path+'AEOutAdam.npy',out)"
   ]
  },
  {
   "cell_type": "code",
   "execution_count": null,
   "metadata": {
    "ExecuteTime": {
     "end_time": "2020-07-17T07:27:54.284559Z",
     "start_time": "2020-07-17T07:27:36.537235Z"
    }
   },
   "outputs": [],
   "source": [
    "intermediate_layer_model = Model(inputs=model.input,\n",
    "                                 outputs=[model.get_layer('dens_2').output,model.get_layer('deconv_3').output])\n",
    "intermediate_output = intermediate_layer_model.predict(obs)"
   ]
  },
  {
   "cell_type": "code",
   "execution_count": null,
   "metadata": {
    "ExecuteTime": {
     "end_time": "2020-07-17T07:28:20.750252Z",
     "start_time": "2020-07-17T07:28:20.742274Z"
    }
   },
   "outputs": [],
   "source": [
    "np.save(path+'AEActAdam.npy',intermediate_output[0])"
   ]
  },
  {
   "cell_type": "code",
   "execution_count": null,
   "metadata": {
    "ExecuteTime": {
     "end_time": "2020-07-17T07:30:50.833771Z",
     "start_time": "2020-07-17T07:30:49.806808Z"
    }
   },
   "outputs": [],
   "source": [
    "i=223\n",
    "plt.figure(figsize=(20,7))\n",
    "plt.subplot(1,3,1)\n",
    "plt.imshow(obs[i])\n",
    "plt.title('Input',fontsize=20)\n",
    "plt.axis('off')\n",
    "plt.subplot(1,3,2)\n",
    "plt.imshow(intermediate_output[0][i].reshape((8,32)))\n",
    "plt.title('Encoding',fontsize=20)\n",
    "plt.axis('off')\n",
    "plt.subplot(1,3,3)\n",
    "plt.imshow(intermediate_output[1][i])\n",
    "plt.title('Output',fontsize=20)\n",
    "plt.axis('off')\n",
    "#plt.show()\n",
    "plt.savefig(path+'autoencoder/Example1.png', bbox_inches='tight')"
   ]
  },
  {
   "cell_type": "code",
   "execution_count": null,
   "metadata": {
    "ExecuteTime": {
     "end_time": "2019-12-13T08:26:13.347044Z",
     "start_time": "2019-12-13T08:26:12.640697Z"
    }
   },
   "outputs": [],
   "source": [
    "i=705\n",
    "plt.figure(figsize=(20,7))\n",
    "plt.subplot(1,3,1)\n",
    "plt.imshow(obs[i])\n",
    "plt.title('Input',fontsize=20)\n",
    "plt.axis('off')\n",
    "plt.subplot(1,3,2)\n",
    "plt.imshow(intermediate_output[0][i].reshape((8,32)))\n",
    "plt.title('Encoding',fontsize=20)\n",
    "plt.axis('off')\n",
    "plt.subplot(1,3,3)\n",
    "plt.imshow(intermediate_output[1][i])\n",
    "plt.title('Output',fontsize=20)\n",
    "plt.axis('off')\n",
    "plt.show()\n",
    "#plt.savefig(path+'autoencoder/Example3.png', bbox_inches='tight')"
   ]
  }
 ],
 "metadata": {
  "hide_input": false,
  "kernelspec": {
   "display_name": "Python 3",
   "language": "python",
   "name": "python3"
  },
  "language_info": {
   "codemirror_mode": {
    "name": "ipython",
    "version": 3
   },
   "file_extension": ".py",
   "mimetype": "text/x-python",
   "name": "python",
   "nbconvert_exporter": "python",
   "pygments_lexer": "ipython3",
   "version": "3.6.8"
  },
  "toc": {
   "base_numbering": 1,
   "nav_menu": {},
   "number_sections": true,
   "sideBar": true,
   "skip_h1_title": false,
   "title_cell": "Table of Contents",
   "title_sidebar": "Contents",
   "toc_cell": false,
   "toc_position": {},
   "toc_section_display": true,
   "toc_window_display": false
  },
  "varInspector": {
   "cols": {
    "lenName": 16,
    "lenType": 16,
    "lenVar": 40
   },
   "kernels_config": {
    "python": {
     "delete_cmd_postfix": "",
     "delete_cmd_prefix": "del ",
     "library": "var_list.py",
     "varRefreshCmd": "print(var_dic_list())"
    },
    "r": {
     "delete_cmd_postfix": ") ",
     "delete_cmd_prefix": "rm(",
     "library": "var_list.r",
     "varRefreshCmd": "cat(var_dic_list()) "
    }
   },
   "types_to_exclude": [
    "module",
    "function",
    "builtin_function_or_method",
    "instance",
    "_Feature"
   ],
   "window_display": false
  }
 },
 "nbformat": 4,
 "nbformat_minor": 2
}
