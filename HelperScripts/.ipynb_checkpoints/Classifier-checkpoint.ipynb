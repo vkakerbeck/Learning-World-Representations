{
 "cells": [
  {
   "cell_type": "markdown",
   "metadata": {},
   "source": [
    "# Classifier"
   ]
  },
  {
   "cell_type": "code",
   "execution_count": 1,
   "metadata": {
    "ExecuteTime": {
     "end_time": "2020-04-01T20:32:58.816042Z",
     "start_time": "2020-04-01T20:32:50.635258Z"
    }
   },
   "outputs": [
    {
     "name": "stderr",
     "output_type": "stream",
     "text": [
      "c:\\users\\vivia\\appdata\\local\\programs\\python\\python36\\lib\\site-packages\\h5py\\__init__.py:36: FutureWarning: Conversion of the second argument of issubdtype from `float` to `np.floating` is deprecated. In future, it will be treated as `np.float64 == np.dtype(float).type`.\n",
      "  from ._conv import register_converters as _register_converters\n",
      "Using TensorFlow backend.\n"
     ]
    }
   ],
   "source": [
    "#%matplotlib notebook\n",
    "import os\n",
    "import matplotlib.pyplot as plt\n",
    "import numpy as np\n",
    "from JSAnimation import IPython_display\n",
    "from matplotlib import animation\n",
    "import matplotlib.patches as mpatches\n",
    "import cv2\n",
    "import scipy.misc\n",
    "import tensorflow as tf\n",
    "import tensorflow.contrib.layers as c_layers\n",
    "import seaborn as sns\n",
    "import pandas as pd\n",
    "import glob\n",
    "from scipy import misc\n",
    "from keras.preprocessing.image import ImageDataGenerator"
   ]
  },
  {
   "cell_type": "markdown",
   "metadata": {},
   "source": [
    "### Data Loading"
   ]
  },
  {
   "cell_type": "code",
   "execution_count": 2,
   "metadata": {
    "ExecuteTime": {
     "end_time": "2020-04-01T20:33:08.462085Z",
     "start_time": "2020-04-01T20:33:06.171445Z"
    }
   },
   "outputs": [
    {
     "name": "stdout",
     "output_type": "stream",
     "text": [
      "Found 34990 images belonging to 18 classes.\n",
      "Found 3879 images belonging to 18 classes.\n"
     ]
    }
   ],
   "source": [
    "all_classes = ['[0, 0, 0, 0]','[0, 0, 0, 1]','[0, 0, 1, 0]','[0, 1, 0, 0]','[0, 1, 1, 0]','[1, 0, 0, 0]',\n",
    "               '[1, 0, 1, 0]','[2, 0, 0, 0]','[2, 0, 0, 1]','[2, 0, 1, 0]','[2, 1, 0, 0]',#'[2, 1, 1, 0]','[2,0,1,1]'\n",
    "               '[3, 0, 0, 0]','[3, 0, 0, 1]','[3, 0, 1, 0]','[3, 1, 0, 0]','[4, 0, 0, 0]','[4, 0, 0, 1]',\n",
    "               '[4, 0, 1, 0]']\n",
    "datagen = ImageDataGenerator(validation_split=0.1)\n",
    "train_it = datagen.flow_from_directory('./Results/TowerTraining/Classifier/Sorted/', class_mode='sparse',\n",
    "                                       batch_size=256,shuffle=True,subset=\"training\",target_size=(168,168),classes=all_classes)\n",
    "val_it = datagen.flow_from_directory('./Results/TowerTraining/Classifier/Sorted/', class_mode='sparse',\n",
    "                                       batch_size=256,shuffle=True,subset=\"validation\",target_size=(168,168),classes=all_classes)\n",
    "\n",
    "realLabel = []\n",
    "for c,v in train_it.class_indices.items():\n",
    "    c_ext = np.fromstring(c[1:-1], dtype=int, sep=', ')\n",
    "    realLabel.append(c_ext)\n",
    "\n",
    "def getRealLabel(labelBatch,RL):\n",
    "    newLB = []\n",
    "    for label in labelBatch:\n",
    "        l = RL[int(label)]\n",
    "        newLB.append(l)\n",
    "    return newLB"
   ]
  },
  {
   "cell_type": "code",
   "execution_count": 3,
   "metadata": {},
   "outputs": [
    {
     "name": "stdout",
     "output_type": "stream",
     "text": [
      "Number of samples: [[14656, 1426, 12153, 3892, 2863], [32770, 2220], [32277, 2713], [33195, 1795]]\n",
      "all good\n"
     ]
    }
   ],
   "source": [
    "num_exp = [[0,0,0,0,0],[0,0],[0,0],[0,0]]\n",
    "classes = [[[0,1,2,3,4],[5,6],[7,8,9,10],[11,12,13,14],[15,16,17]],[[0,1,2,5,6,7,8,9,11,12,13,15,16,17],[3,4,10,14]],\n",
    "           [[0,1,3,5,7,8,10,11,12,14,15,16],[2,4,6,9,13,17]],[[0,2,3,4,5,6,7,9,10,11,13,14,15,17],[1,8,12,16]]]\n",
    "for branch in range(len(num_exp)):\n",
    "    for c in range(len(num_exp[branch])):\n",
    "        sum_exp = 0\n",
    "        for s in classes[branch][c]:\n",
    "            sum_exp = sum_exp + train_it.classes[train_it.classes==s].shape[0]\n",
    "        num_exp[branch][c] = sum_exp\n",
    "print('Number of samples: '+str(num_exp))\n",
    "if np.sum(num_exp[0])== np.sum(num_exp[1]) == np.sum(num_exp[2]) == np.sum(num_exp[3]):\n",
    "    print('all good')"
   ]
  },
  {
   "cell_type": "code",
   "execution_count": 4,
   "metadata": {},
   "outputs": [
    {
     "name": "stdout",
     "output_type": "stream",
     "text": [
      "Class Weights: \n",
      "[0.48 4.91 0.58 1.8  2.44]\n",
      "[0.53 7.88]\n",
      "[0.54 6.45]\n",
      "[0.53 9.75]\n"
     ]
    }
   ],
   "source": [
    "class_weights = [[0,0,0,0,0],[0,0],[0,0],[0,0]]\n",
    "print('Class Weights: ')\n",
    "for branch in range(len(class_weights)):\n",
    "    bincount = np.array(num_exp[branch])\n",
    "    weights = np.sum(bincount) / (bincount.shape[0] * bincount)\n",
    "    class_weights[branch] = weights\n",
    "    print(np.round(weights,2))\n"
   ]
  },
  {
   "cell_type": "code",
   "execution_count": 5,
   "metadata": {
    "ExecuteTime": {
     "end_time": "2020-04-01T20:33:12.750117Z",
     "start_time": "2020-04-01T20:33:12.744135Z"
    }
   },
   "outputs": [
    {
     "data": {
      "text/plain": [
       "dict_items([('[0, 0, 0, 0]', 0), ('[0, 0, 0, 1]', 1), ('[0, 0, 1, 0]', 2), ('[0, 1, 0, 0]', 3), ('[0, 1, 1, 0]', 4), ('[1, 0, 0, 0]', 5), ('[1, 0, 1, 0]', 6), ('[2, 0, 0, 0]', 7), ('[2, 0, 0, 1]', 8), ('[2, 0, 1, 0]', 9), ('[2, 1, 0, 0]', 10), ('[3, 0, 0, 0]', 11), ('[3, 0, 0, 1]', 12), ('[3, 0, 1, 0]', 13), ('[3, 1, 0, 0]', 14), ('[4, 0, 0, 0]', 15), ('[4, 0, 0, 1]', 16), ('[4, 0, 1, 0]', 17)])"
      ]
     },
     "execution_count": 5,
     "metadata": {},
     "output_type": "execute_result"
    }
   ],
   "source": [
    "train_it.class_indices.items()"
   ]
  },
  {
   "cell_type": "markdown",
   "metadata": {},
   "source": [
    "## Object Classification\n",
    "### Network"
   ]
  },
  {
   "cell_type": "code",
   "execution_count": 16,
   "metadata": {
    "ExecuteTime": {
     "end_time": "2020-04-01T20:33:16.057521Z",
     "start_time": "2020-04-01T20:33:15.245247Z"
    }
   },
   "outputs": [
    {
     "name": "stdout",
     "output_type": "stream",
     "text": [
      "Tensor(\"SparseSoftmaxCrossEntropyWithLogits/SparseSoftmaxCrossEntropyWithLogits:0\", shape=(?,), dtype=float32)\n",
      "Tensor(\"Const_1:0\", shape=(5,), dtype=float32)\n",
      "Tensor(\"Sum_4:0\", shape=(?,), dtype=float32)\n",
      "Tensor(\"Mean_1:0\", shape=(4,), dtype=float32)\n"
     ]
    }
   ],
   "source": [
    "tf.reset_default_graph()\n",
    "\n",
    "def swish(input_activation):\n",
    "    \"\"\"Swish activation function. For more info: https://arxiv.org/abs/1710.05941\"\"\"\n",
    "    return tf.multiply(input_activation, tf.nn.sigmoid(input_activation))\n",
    "\n",
    "o_size_h = 168\n",
    "o_size_w = 168\n",
    "vec_obs_size = 8\n",
    "num_layers = 2\n",
    "h_size = 256\n",
    "h_size_vec = 256\n",
    "            \n",
    "visual_in = tf.placeholder(shape=[None, o_size_h, o_size_w, 3], dtype=tf.float32,name=\"visual_observation_0\")\n",
    "labels = tf.placeholder(shape=[None,4], dtype=tf.int64,name=\"labels\")\n",
    "\n",
    "running_mean = tf.get_variable(\"running_mean\", [vec_obs_size],trainable=False, dtype=tf.float32,initializer=tf.zeros_initializer())\n",
    "running_variance = tf.get_variable(\"running_variance\", [vec_obs_size],trainable=False,dtype=tf.float32,initializer=tf.ones_initializer())\n",
    "\n",
    "def create_vector_observation_encoder(observation_input, h_size, activation, num_layers, scope,reuse):\n",
    "    with tf.variable_scope(scope):\n",
    "        hidden_vec = observation_input\n",
    "        for i in range(num_layers):\n",
    "            hidden_vec = tf.layers.dense(hidden_vec, h_size, activation=activation, reuse=reuse,name=\"hidden_{}\".format(i),kernel_initializer=c_layers.variance_scaling_initializer(1.0))\n",
    "    return hidden_vec\n",
    "\n",
    "def create_visual_observation_encoder(image_input, h_size, activation, num_layers, scope,reuse):\n",
    "    with tf.variable_scope(scope):\n",
    "        conv1 = tf.layers.conv2d(image_input, 16, kernel_size=[8, 8], strides=[4, 4],activation=tf.nn.elu, reuse=reuse, name=\"conv_1\")\n",
    "        conv2 = tf.layers.conv2d(conv1, 32, kernel_size=[4, 4], strides=[2, 2],activation=tf.nn.elu, reuse=reuse, name=\"conv_2\")\n",
    "        hidden_vis = c_layers.flatten(conv2)\n",
    "\n",
    "    with tf.variable_scope(scope + '/' + 'flat_encoding'):\n",
    "        hidden_flat = create_vector_observation_encoder(hidden_vis, h_size, activation,num_layers, scope, reuse)\n",
    "    return hidden_flat\n",
    "\n",
    "def create_discrete_action_masking_layer(all_logits, action_size):\n",
    "        \"\"\"\n",
    "        Creates a masking layer for the discrete actions\n",
    "        :param all_logits: The concatenated unnormalized action probabilities for all branches\n",
    "        :param action_size: A list containing the number of possible actions for each branch\n",
    "        :return: The action output dimension [batch_size, num_branches] and the concatenated normalized logits\n",
    "        \"\"\"\n",
    "        action_idx = [0] + list(np.cumsum(action_size))\n",
    "        raw_probs = [all_logits[:, action_idx[i]:action_idx[i + 1]] for i in range(len(action_size))]#split in action branches (size=action_size)\n",
    "        normalized_probs = [\n",
    "            tf.divide(raw_probs[k], tf.reduce_sum(raw_probs[k]+ 1.0e-10, axis=1, keepdims=True))\n",
    "            for k in range(len(action_size))]\n",
    "        #normalized_probs = raw_probs\n",
    "        #output = tf.concat([tf.multinomial(tf.log(normalized_probs[k]), 1) for k in range(len(action_size))], axis=1)#sample outputs from log probdist\n",
    "        output = tf.concat([tf.multinomial(tf.nn.log_softmax(raw_probs[k]), 1) for k in range(len(action_size))], axis=1)#sample outputs from log probdist\n",
    "        \n",
    "        log_probs = [tf.log(normalized_probs[k] + 1.0e-10) for k in range(len(action_size))]#xx\n",
    "        log_probs_flat = tf.concat(log_probs, axis=1)\n",
    "        return output, log_probs_flat, log_probs\n",
    "\n",
    "visual_encoders = []\n",
    "hidden_state, hidden_visual = None, None\n",
    "\n",
    "encoded_visual = create_visual_observation_encoder(visual_in,h_size,swish,num_layers,\"main_graph_0_encoder0\", False)\n",
    "visual_encoders.append(encoded_visual)\n",
    "hidden = tf.concat(visual_encoders, axis=1)\n",
    "\n",
    "class_size = [5,2,2,2]\n",
    "policy_branches = []\n",
    "for size in class_size:\n",
    "    policy_branches.append(tf.layers.dense(hidden, size, activation=tf.nn.relu, use_bias=False,kernel_initializer=c_layers.variance_scaling_initializer(factor=0.01)))\n",
    "\n",
    "all_log_probs = tf.concat([branch for branch in policy_branches], axis=1, name=\"action_probs\")\n",
    "\n",
    "output, normalized_logits_flat, norm_logits = create_discrete_action_masking_layer(all_log_probs, class_size)\n",
    "\n",
    "output = tf.identity(output)\n",
    "normalized_logits = tf.identity(normalized_logits_flat, name='action')#has nan in places where prob is negative bc it it log(probs)\n",
    "\n",
    "comparison = tf.equal(labels, output)\n",
    "\n",
    "accuracy = tf.reduce_mean(tf.cast(comparison, dtype=tf.float32))\n",
    "\n",
    "\n",
    "#cross_entropies = tf.nn.sparse_softmax_cross_entropy_with_logits(logits = norm_logits, labels = label_cat)\n",
    "cross_entropiesD = tf.nn.sparse_softmax_cross_entropy_with_logits(logits = norm_logits[0], labels = labels[:,0])\n",
    "cross_entropiesK = tf.nn.sparse_softmax_cross_entropy_with_logits(logits = norm_logits[1], labels = labels[:,1])\n",
    "cross_entropiesO = tf.nn.sparse_softmax_cross_entropy_with_logits(logits = norm_logits[2], labels = labels[:,2])\n",
    "cross_entropiesP = tf.nn.sparse_softmax_cross_entropy_with_logits(logits = norm_logits[3], labels = labels[:,3])\n",
    "print(cross_entropiesD)\n",
    "\n",
    "class_weightsD = tf.constant(class_weights[0],dtype='float32')\n",
    "class_weightsK = tf.constant(class_weights[1],dtype='float32')\n",
    "class_weightsO = tf.constant(class_weights[2],dtype='float32')\n",
    "class_weightsP = tf.constant(class_weights[3],dtype='float32')\n",
    "print(class_weightsD)\n",
    "\n",
    "weightsD = tf.reduce_sum(class_weightsD * tf.one_hot(labels[:,0],5), axis=1)\n",
    "weightsK = tf.reduce_sum(class_weightsK * tf.one_hot(labels[:,1],2), axis=1)\n",
    "weightsO = tf.reduce_sum(class_weightsO * tf.one_hot(labels[:,2],2), axis=1)\n",
    "weightsP = tf.reduce_sum(class_weightsP * tf.one_hot(labels[:,3],2), axis=1)\n",
    "print(weightsD)\n",
    "scaled_errorD = cross_entropiesD * weightsD\n",
    "scaled_errorK = cross_entropiesK * weightsK\n",
    "scaled_errorO = cross_entropiesO * weightsO\n",
    "scaled_errorP = cross_entropiesP * weightsP\n",
    "\n",
    "cross_entropies = tf.reduce_mean([cross_entropiesD,cross_entropiesK,cross_entropiesO,cross_entropiesP],axis=1)\n",
    "print(cross_entropies)\n",
    "scaled_error = tf.reduce_mean([scaled_errorD,scaled_errorK,scaled_errorO,scaled_errorP],axis=1)\n",
    "# Calculate the mean cross entropy for the mini-batch \n",
    "mean_cross_entropy = tf.reduce_mean(cross_entropies)\n",
    "mean_scaled_error = tf.reduce_mean(scaled_error)\n",
    "# Define optimizer and minimize the mean cross entropy \n",
    "optimizer = tf.train.AdamOptimizer(0.001)\n",
    "\n",
    "#gradients = optimizer.compute_gradients(mean_cross_entropy)\n",
    "gradients = optimizer.compute_gradients(mean_scaled_error)\n",
    "\n",
    "#training_step = optimizer.minimize(mean_scaled_error)\n",
    "training_step = optimizer.minimize(mean_scaled_error)\n",
    "\n",
    "saver = tf.train.Saver()"
   ]
  },
  {
   "cell_type": "markdown",
   "metadata": {},
   "source": [
    "## Train Classifier"
   ]
  },
  {
   "cell_type": "code",
   "execution_count": 17,
   "metadata": {
    "ExecuteTime": {
     "end_time": "2020-04-01T20:34:28.959272Z",
     "start_time": "2020-04-01T20:33:23.032390Z"
    },
    "scrolled": false
   },
   "outputs": [
    {
     "name": "stdout",
     "output_type": "stream",
     "text": [
      "Validation:  3.9611223 - 11.268385 - 0.5205078\n",
      "Training: 1.6947271 - 5.4444184 - 0.5859375    Validation:  1.6782757 - 5.290943 - 0.609375\n",
      "saved model\n",
      "Training: 1.292548 - 4.2038784 - 0.81933594    Validation:  1.1480972 - 3.7904615 - 0.77734375\n",
      "saved model\n",
      "Training: 1.3791555 - 5.268167 - 0.8144531    Validation:  1.2156196 - 5.410999 - 0.775641\n",
      "Training: 1.2415866 - 4.6508574 - 0.8300781    Validation:  1.3779612 - 4.595459 - 0.8232422\n",
      "saved model\n",
      "Training: 1.0705884 - 4.1433363 - 0.8691406    Validation:  1.2091098 - 4.0432954 - 0.828125\n",
      "saved model\n",
      "Training: 1.1141522 - 3.9170153 - 0.90527344    Validation:  1.1562008 - 4.105307 - 0.85253906\n",
      "saved model\n",
      "Training: 1.2530887 - 4.3656173 - 0.8671875    Validation:  1.3136796 - 4.6104345 - 0.83496094\n",
      "Training: 1.0842298 - 4.3175163 - 0.8203125    Validation:  1.1249568 - 4.2468567 - 0.8251953\n",
      "Training: 1.3791769 - 4.310735 - 0.6689453    Validation:  1.4766569 - 5.2260876 - 0.63964844\n",
      "Training: 1.5560126 - 5.7342143 - 0.69921875    Validation:  1.4813182 - 4.7083964 - 0.69140625\n",
      "Training: 1.3297901 - 5.3297358 - 0.68847656    Validation:  1.5684112 - 4.9488792 - 0.6816406\n",
      "Training: 1.3952565 - 4.7052984 - 0.7910156    Validation:  1.5024568 - 5.4941754 - 0.7890625\n",
      "Training: 1.2417551 - 4.8163934 - 0.8886719    Validation:  1.3469551 - 5.265775 - 0.83691406\n",
      "Training: 1.0928917 - 4.9997063 - 0.86816406    Validation:  1.1272155 - 4.54975 - 0.84375\n",
      "Training: 1.0942241 - 3.943982 - 0.8857422    Validation:  1.0717477 - 4.2846103 - 0.8417969\n",
      "Training: 0.98680276 - 4.498771 - 0.87402344    Validation:  1.0525309 - 3.6280758 - 0.84375\n",
      "Training: 1.4159534 - 4.4765563 - 0.8175287    Validation:  1.1656418 - 3.4230917 - 0.8388672\n",
      "Training: 1.9183815 - 6.268763 - 0.7363281    Validation:  1.4183962 - 4.0995812 - 0.73828125\n",
      "Training: 1.3471327 - 3.6501393 - 0.70996094    Validation:  2.283599 - 9.306184 - 0.57051283\n",
      "Training: 1.2135155 - 3.2896023 - 0.7109375    Validation:  1.3795539 - 4.4411607 - 0.7089844\n",
      "Training: 0.9005596 - 2.958708 - 0.85839844    Validation:  1.2848232 - 4.378121 - 0.8623047\n",
      "saved model\n",
      "Training: 1.3211468 - 4.68468 - 0.85839844    Validation:  1.1906352 - 4.617523 - 0.8388672\n",
      "Training: 1.1513416 - 4.2312226 - 0.87597656    Validation:  1.3061885 - 5.3410006 - 0.85839844\n",
      "Training: 1.1603394 - 4.2011075 - 0.8496094    Validation:  1.2101436 - 4.1892686 - 0.8310547\n",
      "Training: 1.3282621 - 4.052941 - 0.4013672    Validation:  1.626608 - 5.1465883 - 0.40722656\n",
      "Training: 1.1805111 - 3.2025828 - 0.82910156    Validation:  1.2758119 - 4.1142044 - 0.8183594\n",
      "Training: 1.3395517 - 5.62551 - 0.8515625    Validation:  1.3443083 - 4.2430825 - 0.83203125\n",
      "Training: 1.0366945 - 3.8986378 - 0.8798828    Validation:  1.2057457 - 4.9548035 - 0.8515625\n",
      "Training: 1.176784 - 4.8085346 - 0.8828125    Validation:  1.4575778 - 6.375931 - 0.8515625\n",
      "Training: 1.0705557 - 3.8166323 - 0.8935547    Validation:  1.3007504 - 5.120051 - 0.8652344\n",
      "saved model\n",
      "Training: 1.2497187 - 4.65931 - 0.88671875    Validation:  1.1364594 - 3.348526 - 0.8623047\n",
      "Training: 0.97946054 - 4.0417805 - 0.87402344    Validation:  1.0330307 - 3.1060455 - 0.8496094\n",
      "Training: 1.0605228 - 3.248652 - 0.90527344    Validation:  1.0765105 - 3.2458081 - 0.87597656\n",
      "saved model\n",
      "Training: 0.8450498 - 2.6653275 - 0.90234375    Validation:  1.1674858 - 4.801674 - 0.8691406\n",
      "Training: 1.1892363 - 4.8959465 - 0.8925781    Validation:  1.2060779 - 4.5650077 - 0.86538464\n",
      "Training: 1.0002663 - 3.5499341 - 0.8847656    Validation:  1.0714424 - 3.9383647 - 0.8574219\n",
      "Training: 1.213544 - 4.470461 - 0.8027344    Validation:  1.1068628 - 3.4544537 - 0.7871094\n",
      "Training: 1.3262502 - 4.4507174 - 0.8183594    Validation:  1.3823532 - 5.369176 - 0.78808594\n",
      "Training: 1.4533716 - 5.5610723 - 0.8544922    Validation:  1.3204079 - 5.3337545 - 0.828125\n",
      "Training: 0.9976193 - 4.3594337 - 0.90722656    Validation:  1.2353996 - 4.801404 - 0.8544922\n",
      "Training: 0.967088 - 3.1380658 - 0.85546875    Validation:  1.4094133 - 5.5728273 - 0.81152344\n",
      "Training: 1.1132077 - 4.738534 - 0.9033203    Validation:  1.0080668 - 4.0828114 - 0.87890625\n",
      "saved model\n",
      "Training: 0.90314794 - 3.1321921 - 0.9140625    Validation:  1.2614917 - 4.426332 - 0.87890625\n",
      "Training: 1.1724024 - 5.480503 - 0.9082031    Validation:  1.1443787 - 4.1490746 - 0.89160156\n",
      "saved model\n",
      "Training: 1.0274339 - 4.038292 - 0.9160156    Validation:  1.1486738 - 3.392214 - 0.88964844\n",
      "Training: 1.0771617 - 3.860412 - 0.91796875    Validation:  1.6651822 - 5.675938 - 0.8857422\n",
      "Training: 1.1424116 - 5.3317366 - 0.89160156    Validation:  1.1785014 - 4.2547026 - 0.86035156\n",
      "Training: 0.9401931 - 4.1009803 - 0.90722656    Validation:  1.2605803 - 4.4665513 - 0.9013672\n",
      "saved model\n",
      "Training: 0.94418675 - 4.4772706 - 0.9267578    Validation:  1.3958452 - 5.837055 - 0.88964844\n",
      "Training: 1.4203013 - 4.369607 - 0.79785156    Validation:  1.5098871 - 5.155938 - 0.76660156\n",
      "Training: 1.0667869 - 3.7323453 - 0.8496094    Validation:  1.6588182 - 8.2866745 - 0.8141026\n",
      "Training: 0.78877944 - 4.1719375 - 0.91503906    Validation:  1.2016196 - 4.1532464 - 0.8798828\n",
      "Training: 1.1613111 - 4.5130806 - 0.91308594    Validation:  1.5608774 - 6.471071 - 0.8691406\n",
      "Training: 0.97404903 - 4.0135465 - 0.92578125    Validation:  1.1785436 - 5.1299915 - 0.89453125\n",
      "Training: 0.9862265 - 4.0893865 - 0.9160156    Validation:  1.1070572 - 4.1437597 - 0.890625\n",
      "Training: 0.9764423 - 4.766907 - 0.91503906    Validation:  1.3412418 - 4.436203 - 0.89453125\n",
      "Training: 1.4222316 - 4.1127286 - 0.3876953    Validation:  1.442214 - 3.9877958 - 0.40039062\n",
      "Training: 1.3761468 - 3.9218917 - 0.6123047    Validation:  1.5033393 - 4.310645 - 0.5917969\n",
      "Training: 1.4380375 - 3.9785328 - 0.5810547    Validation:  1.4027797 - 4.155857 - 0.5732422\n",
      "Training: 1.4547777 - 4.332308 - 0.6982422    Validation:  1.3955295 - 4.8362236 - 0.7207031\n",
      "Training: 1.384933 - 4.8274026 - 0.7470703    Validation:  1.3067605 - 4.167966 - 0.7402344\n",
      "Training: 1.3414708 - 3.665022 - 0.7285156    Validation:  1.6947361 - 5.880529 - 0.7011719\n",
      "Training: 1.6429977 - 6.2832084 - 0.74316406    Validation:  1.0976447 - 2.953387 - 0.7558594\n",
      "Training: 1.3077967 - 3.3096876 - 0.75097656    Validation:  1.4677943 - 3.5455108 - 0.7207031\n",
      "Training: 1.4168711 - 4.9760723 - 0.8300781    Validation:  1.3591328 - 4.6833115 - 0.79785156\n",
      "Training: 1.3088164 - 5.617568 - 0.83203125    Validation:  1.728814 - 6.809123 - 0.81640625\n",
      "Training: 1.4581759 - 4.457813 - 0.6113281    Validation:  1.3700414 - 4.124149 - 0.6025641\n",
      "Training: 1.3071768 - 4.2310934 - 0.6357422    Validation:  1.5219197 - 5.278367 - 0.6484375\n",
      "Training: 1.3255684 - 4.3083014 - 0.73339844    Validation:  1.4254998 - 4.636118 - 0.74609375\n",
      "Training: 1.4098265 - 4.9274993 - 0.78027344    Validation:  1.3762964 - 4.206227 - 0.7675781\n",
      "Training: 1.0992699 - 3.9404614 - 0.8486328    Validation:  1.308606 - 4.2311225 - 0.7871094\n",
      "Training: 1.2987831 - 3.9730902 - 0.7841797    Validation:  1.5445408 - 5.396789 - 0.74121094\n",
      "Training: 1.4034292 - 5.931699 - 0.8496094    Validation:  1.137651 - 4.727747 - 0.85058594\n",
      "Training: 1.2980118 - 4.3164515 - 0.7988281    Validation:  1.2755831 - 4.7683024 - 0.7939453\n",
      "Training: 1.0936223 - 4.1107855 - 0.8691406    Validation:  1.1031685 - 3.8983593 - 0.8466797\n",
      "Training: 1.2323852 - 4.693633 - 0.8310547    Validation:  1.1738341 - 3.7422209 - 0.84277344\n",
      "Training: 1.1198589 - 4.086587 - 0.8798828    Validation:  1.1672034 - 4.345559 - 0.86621094\n",
      "Training: 1.0998605 - 3.9355035 - 0.8886719    Validation:  1.1192127 - 4.5614347 - 0.85253906\n",
      "Training: 0.911497 - 3.7650144 - 0.859375    Validation:  1.3111727 - 5.5305667 - 0.82910156\n",
      "Training: 0.9667561 - 4.3396435 - 0.90527344    Validation:  1.4208267 - 5.4711685 - 0.8808594\n",
      "Training: 1.0701159 - 3.951995 - 0.84765625    Validation:  1.0702329 - 3.0960693 - 0.8066406\n",
      "Training: 1.1414787 - 5.083693 - 0.8730469    Validation:  1.1329703 - 4.1466274 - 0.8671875\n",
      "Training: 1.0961872 - 4.3602734 - 0.87597656    Validation:  1.1961823 - 3.4527721 - 0.8397436\n",
      "Training: 0.9198432 - 3.2086782 - 0.89453125    Validation:  1.0883934 - 4.063948 - 0.8671875\n",
      "Training: 0.90162534 - 3.323779 - 0.8955078    Validation:  1.1477542 - 3.9065053 - 0.8496094\n",
      "Training: 0.99589854 - 3.6661332 - 0.9033203    Validation:  1.241031 - 4.2987456 - 0.8642578\n"
     ]
    },
    {
     "name": "stdout",
     "output_type": "stream",
     "text": [
      "Training: 0.9594232 - 3.8955286 - 0.88183594    Validation:  1.3496108 - 5.32152 - 0.8359375\n",
      "Training: 1.0257685 - 4.522977 - 0.88378906    Validation:  0.91996384 - 2.953371 - 0.8574219\n",
      "Training: 1.0687897 - 4.1881776 - 0.8623047    Validation:  1.1516429 - 3.4269686 - 0.84375\n",
      "Training: 1.469882 - 4.3457065 - 0.6875    Validation:  1.4334427 - 4.7520247 - 0.68652344\n",
      "Training: 1.340056 - 4.3557696 - 0.8017578    Validation:  1.3461971 - 4.9920197 - 0.8027344\n",
      "Training: 1.3998148 - 3.9065454 - 0.6386719    Validation:  1.9636402 - 6.6373587 - 0.58984375\n",
      "Training: 1.3027133 - 4.42807 - 0.82421875    Validation:  1.3123251 - 4.3334475 - 0.81347656\n",
      "Training: 1.3526402 - 5.236301 - 0.84277344    Validation:  1.440664 - 5.2114406 - 0.81640625\n",
      "Training: 1.3570415 - 3.6861699 - 0.66796875    Validation:  1.5573401 - 5.131642 - 0.6142578\n",
      "Training: 0.9836251 - 3.2777572 - 0.8515625    Validation:  1.4057008 - 4.3122 - 0.8173828\n",
      "Training: 1.2452743 - 4.4707994 - 0.8671875    Validation:  1.2394569 - 3.9003344 - 0.8496094\n",
      "Training: 1.3290162 - 5.024961 - 0.83984375    Validation:  1.269002 - 4.1501584 - 0.83496094\n",
      "Training: 1.4558681 - 5.383036 - 0.8701172    Validation:  1.6648123 - 6.090469 - 0.88461536\n",
      "Training: 0.9993878 - 3.300623 - 0.8828125    Validation:  1.1732986 - 4.334085 - 0.86621094\n",
      "Training: 1.1773075 - 5.099242 - 0.88964844    Validation:  1.0826867 - 4.06306 - 0.875\n",
      "Training: 1.0230412 - 4.3209076 - 0.9121094    Validation:  1.2165309 - 4.4638004 - 0.88671875\n",
      "Training: 1.0341328 - 4.3334217 - 0.89941406    Validation:  0.9419297 - 3.8085332 - 0.87890625\n",
      "Training: 1.0402614 - 4.259653 - 0.90527344    Validation:  1.1341382 - 4.6126747 - 0.8828125\n",
      "Training: 0.9254475 - 3.71381 - 0.9082031    Validation:  1.0280404 - 3.6585078 - 0.8847656\n",
      "Training: 1.1933316 - 4.111255 - 0.8105469    Validation:  1.4979019 - 5.513826 - 0.7988281\n",
      "Training: 1.2277625 - 4.8935785 - 0.88671875    Validation:  1.5949467 - 5.597946 - 0.8574219\n",
      "Training: 1.2066321 - 4.961825 - 0.89160156    Validation:  1.2273674 - 4.695889 - 0.86816406\n",
      "Training: 1.0030109 - 3.9785612 - 0.90722656    Validation:  1.485756 - 5.502773 - 0.8857422\n",
      "Training: 1.2124845 - 5.0255356 - 0.90625    Validation:  1.325428 - 4.649861 - 0.87597656\n",
      "Training: 1.0032071 - 4.423669 - 0.91503906    Validation:  1.2622496 - 4.5852804 - 0.87597656\n",
      "Training: 1.1627984 - 4.552767 - 0.91503906    Validation:  1.4436268 - 5.3624616 - 0.890625\n",
      "Training: 0.85612315 - 3.7826357 - 0.92871094    Validation:  1.1227257 - 4.5815353 - 0.88378906\n",
      "Training: 0.80167294 - 2.9554427 - 0.9345703    Validation:  1.5283408 - 6.132613 - 0.890625\n",
      "Training: 0.88393044 - 3.9069593 - 0.9296875    Validation:  1.3274227 - 4.6608295 - 0.86538464\n",
      "Training: 0.7680905 - 3.2538223 - 0.93066406    Validation:  1.1057668 - 5.1341395 - 0.90527344\n",
      "saved model\n",
      "Training: 0.9713238 - 3.9141562 - 0.9267578    Validation:  1.3860732 - 5.658406 - 0.8984375\n",
      "Training: 0.82569915 - 3.5179458 - 0.94433594    Validation:  1.3741984 - 4.6462026 - 0.8925781\n",
      "Training: 1.1394181 - 5.2241745 - 0.92578125    Validation:  1.4550004 - 5.0161448 - 0.8935547\n",
      "Training: 0.9354548 - 4.1261544 - 0.9316406    Validation:  1.4299308 - 3.6716824 - 0.89746094\n",
      "Training: 0.77731216 - 3.1087735 - 0.94628906    Validation:  1.1712523 - 4.5045056 - 0.91796875\n",
      "saved model\n",
      "Training: 1.0291405 - 4.3832793 - 0.9345703    Validation:  1.2538751 - 5.654244 - 0.90527344\n",
      "Training: 0.90289205 - 3.73674 - 0.92285156    Validation:  1.4756639 - 5.1561427 - 0.8564453\n",
      "Training: 0.8137098 - 2.7926486 - 0.93652344    Validation:  1.4777707 - 5.307824 - 0.9003906\n",
      "Training: 1.0763792 - 5.133449 - 0.9296875    Validation:  1.1618718 - 4.6175823 - 0.9042969\n",
      "Training: 1.066344 - 4.8332853 - 0.9345703    Validation:  1.6882331 - 5.4431515 - 0.8857422\n",
      "Training: 0.72973555 - 2.6648307 - 0.9472656    Validation:  1.6472313 - 5.7587066 - 0.8984375\n",
      "Training: 0.99993724 - 4.132845 - 0.9296875    Validation:  1.2790593 - 4.9350815 - 0.91308594\n",
      "Training: 1.1221268 - 4.735767 - 0.9355469    Validation:  1.1270875 - 4.06185 - 0.9140625\n",
      "Training: 0.8760299 - 3.8174355 - 0.9453125    Validation:  1.3063629 - 4.918368 - 0.9042969\n",
      "Training: 0.83885753 - 4.1198215 - 0.94921875    Validation:  1.4094784 - 6.561308 - 0.90384614\n",
      "Training: 0.9717479 - 3.9471884 - 0.9296875    Validation:  1.4888239 - 5.0496473 - 0.8935547\n",
      "Training: 0.97661114 - 3.5795853 - 0.93652344    Validation:  1.5258875 - 5.2261176 - 0.9013672\n",
      "Training: 1.1085006 - 4.744059 - 0.9277344    Validation:  1.4827332 - 5.8535137 - 0.89160156\n",
      "Training: 0.6694538 - 2.5756595 - 0.9589844    Validation:  1.3265404 - 5.0897326 - 0.9160156\n",
      "Training: 0.9986277 - 4.2543736 - 0.9277344    Validation:  1.2508545 - 4.641754 - 0.9042969\n",
      "Training: 1.0594512 - 4.7764 - 0.9345703    Validation:  1.4429327 - 4.596481 - 0.9042969\n",
      "Training: 0.79836833 - 3.6763477 - 0.9580078    Validation:  1.2834778 - 4.8408656 - 0.9160156\n",
      "Training: 0.9691822 - 4.6933055 - 0.9453125    Validation:  1.457876 - 4.9552484 - 0.8964844\n",
      "Training: 0.87203276 - 3.8233619 - 0.94628906    Validation:  1.4204006 - 5.269403 - 0.91308594\n",
      "Training: 0.75748163 - 3.5780532 - 0.9501953    Validation:  1.3363091 - 4.1236005 - 0.91503906\n",
      "Training: 0.89952546 - 4.2825713 - 0.94433594    Validation:  1.3364742 - 5.065758 - 0.8964844\n",
      "Training: 1.2249343 - 6.0769863 - 0.92871094    Validation:  1.5985103 - 6.6358056 - 0.89453125\n",
      "Training: 1.0661465 - 4.9531174 - 0.9375    Validation:  1.3909975 - 4.8854265 - 0.9169922\n",
      "Training: 1.0558654 - 4.5988345 - 0.9375    Validation:  1.3353326 - 4.6196814 - 0.91015625\n",
      "Training: 0.85427105 - 4.0074983 - 0.9423828    Validation:  1.4072919 - 5.2927523 - 0.87890625\n",
      "Training: 0.9854838 - 4.377976 - 0.92871094    Validation:  0.88768595 - 2.4105928 - 0.90384614\n",
      "Training: 0.82547593 - 4.352227 - 0.93847656    Validation:  1.3922869 - 4.699649 - 0.89941406\n",
      "Training: 0.90358657 - 4.0745564 - 0.94921875    Validation:  1.3392017 - 5.387795 - 0.91308594\n",
      "Training: 0.8152752 - 4.2854457 - 0.95410156    Validation:  1.7073873 - 5.5079303 - 0.90722656\n",
      "Training: 1.0833027 - 4.7064023 - 0.9433594    Validation:  1.6427318 - 6.6366234 - 0.90527344\n",
      "Training: 1.0626868 - 4.419807 - 0.9345703    Validation:  1.4432133 - 5.153269 - 0.89941406\n",
      "Training: 0.8952689 - 4.240244 - 0.9550781    Validation:  1.1370349 - 4.3809204 - 0.9091797\n",
      "Training: 1.1555473 - 4.556057 - 0.9382184    Validation:  1.8096802 - 6.565789 - 0.88378906\n",
      "Training: 0.96433014 - 4.654876 - 0.9482422    Validation:  1.8962673 - 6.8513603 - 0.89160156\n",
      "Training: 1.2797191 - 5.825733 - 0.93652344    Validation:  1.4015672 - 4.7367096 - 0.9160156\n",
      "Training: 0.73154426 - 3.4115412 - 0.953125    Validation:  1.357092 - 4.762646 - 0.90722656\n",
      "Training: 0.9607388 - 4.368897 - 0.91015625    Validation:  1.179709 - 4.182638 - 0.8642578\n",
      "Training: 0.8573779 - 3.4524138 - 0.9472656    Validation:  1.3605424 - 4.7458706 - 0.9013672\n",
      "Training: 0.84591824 - 3.8694043 - 0.96191406    Validation:  1.7088857 - 4.5286703 - 0.8964844\n",
      "Training: 0.778661 - 3.9581027 - 0.9501953    Validation:  1.5785053 - 4.86678 - 0.8955078\n",
      "Training: 0.7671211 - 3.8765416 - 0.9589844    Validation:  1.1577795 - 3.7708826 - 0.9238281\n",
      "saved model\n",
      "Training: 0.7307062 - 2.9030993 - 0.9589844    Validation:  1.1086023 - 1.9767408 - 0.9230769\n",
      "Training: 0.98449683 - 3.7978935 - 0.94628906    Validation:  1.4662746 - 4.719421 - 0.9003906\n",
      "Training: 0.9832305 - 4.8414984 - 0.9404297    Validation:  1.6114447 - 5.518589 - 0.8955078\n",
      "Training: 1.0031731 - 3.9352555 - 0.953125    Validation:  1.4378855 - 4.989286 - 0.92089844\n",
      "Training: 0.7909352 - 3.5261452 - 0.9560547    Validation:  1.9327565 - 6.2886524 - 0.88183594\n",
      "Training: 0.91071075 - 4.5179787 - 0.9580078    Validation:  1.381809 - 3.473531 - 0.9160156\n",
      "Training: 0.6321916 - 2.6394331 - 0.95996094    Validation:  1.2572167 - 3.9334729 - 0.91503906\n",
      "Training: 0.8743119 - 4.0266676 - 0.9394531    Validation:  1.8462186 - 5.661281 - 0.8857422\n",
      "Training: 0.7746667 - 3.917427 - 0.9482422    Validation:  1.4700251 - 4.9412785 - 0.88378906\n",
      "Training: 0.8318944 - 4.3876877 - 0.93066406    Validation:  1.3906732 - 4.422492 - 0.8847656\n",
      "Training: 0.80597377 - 4.1912374 - 0.9394531    Validation:  1.3741452 - 3.9757338 - 0.8779297\n"
     ]
    },
    {
     "name": "stdout",
     "output_type": "stream",
     "text": [
      "Training: 0.8271844 - 3.906278 - 0.9326172    Validation:  1.7297827 - 6.0390396 - 0.86328125\n",
      "Training: 0.7100504 - 3.4794888 - 0.93847656    Validation:  1.4743844 - 4.867804 - 0.87890625\n",
      "Training: 1.0450344 - 4.975798 - 0.9375    Validation:  1.4360834 - 5.297989 - 0.8964844\n",
      "Training: 0.7256717 - 3.5119581 - 0.9589844    Validation:  1.3780334 - 5.3042164 - 0.9140625\n",
      "Training: 0.78577685 - 3.6764114 - 0.953125    Validation:  1.3168428 - 5.1192694 - 0.90625\n",
      "Training: 0.91113913 - 4.5696425 - 0.95703125    Validation:  1.6866693 - 4.388522 - 0.90384614\n",
      "Training: 0.9508901 - 3.9464164 - 0.9111328    Validation:  1.4276273 - 5.997711 - 0.87402344\n",
      "Training: 0.9192409 - 4.4938107 - 0.94921875    Validation:  1.3692167 - 5.0643616 - 0.89453125\n",
      "Training: 0.9880943 - 4.2057805 - 0.9511719    Validation:  1.5198486 - 4.791952 - 0.9082031\n",
      "Training: 1.0237381 - 4.596396 - 0.9482422    Validation:  1.364279 - 4.648589 - 0.9160156\n",
      "Training: 0.76230717 - 3.4192116 - 0.9580078    Validation:  1.8143029 - 6.075505 - 0.89453125\n",
      "Training: 0.7578171 - 3.41487 - 0.95996094    Validation:  1.7451689 - 5.8995514 - 0.8964844\n",
      "Training: 0.8103625 - 4.2288427 - 0.953125    Validation:  1.067421 - 2.7874763 - 0.93066406\n",
      "saved model\n",
      "Training: 0.8423608 - 4.0674872 - 0.9511719    Validation:  1.4563535 - 4.688082 - 0.90234375\n",
      "Training: 0.75421554 - 3.4058597 - 0.9511719    Validation:  1.2967076 - 4.5118923 - 0.91308594\n",
      "Training: 0.8077432 - 3.96246 - 0.9345703    Validation:  1.4082953 - 3.9898782 - 0.89746094\n",
      "Training: 0.65287554 - 3.2086236 - 0.9404297    Validation:  1.5522023 - 4.961594 - 0.8671875\n",
      "Training: 0.7665917 - 3.2456033 - 0.9472656    Validation:  1.1243627 - 4.616414 - 0.9121094\n",
      "Training: 0.6593833 - 3.3446212 - 0.9394531    Validation:  1.4648925 - 5.1643744 - 0.88671875\n",
      "Training: 0.7599532 - 3.519787 - 0.9238281    Validation:  1.4193728 - 5.7610955 - 0.88964844\n",
      "Training: 0.84364444 - 4.506198 - 0.91308594    Validation:  1.3706865 - 4.536381 - 0.86816406\n",
      "Training: 0.80176973 - 4.229666 - 0.90722656    Validation:  1.6160457 - 5.2496758 - 0.85897434\n",
      "Training: 0.7264376 - 3.4289136 - 0.9267578    Validation:  1.276383 - 5.4715824 - 0.8691406\n",
      "Training: 0.8618798 - 4.7916837 - 0.9189453    Validation:  1.2825661 - 5.4672556 - 0.8798828\n",
      "Training: 0.66131943 - 3.3151186 - 0.91308594    Validation:  1.2298553 - 3.6064115 - 0.87597656\n",
      "Training: 0.84697217 - 4.023016 - 0.9189453    Validation:  1.1871884 - 3.7212873 - 0.875\n",
      "Training: 0.4714547 - 2.3333333 - 0.9316406    Validation:  1.5903609 - 5.194042 - 0.8466797\n",
      "Training: 0.7538942 - 3.517004 - 0.9169922    Validation:  1.3073014 - 4.714867 - 0.8730469\n",
      "Training: 0.82473266 - 4.177085 - 0.94140625    Validation:  1.832927 - 6.341443 - 0.87890625\n",
      "Training: 0.7566518 - 3.6153164 - 0.96191406    Validation:  1.5757626 - 5.4470787 - 0.9111328\n",
      "Training: 0.81583345 - 4.271985 - 0.94921875    Validation:  1.619629 - 5.207953 - 0.9013672\n",
      "Training: 1.0017645 - 4.425452 - 0.95214844    Validation:  1.5413969 - 4.9415574 - 0.8984375\n",
      "Training: 0.9768694 - 4.189107 - 0.95410156    Validation:  1.4759364 - 4.3651032 - 0.92089844\n",
      "Training: 0.6802738 - 2.9138694 - 0.96972656    Validation:  1.350382 - 4.811315 - 0.9189453\n",
      "Training: 0.84291387 - 3.7174487 - 0.95996094    Validation:  1.8283626 - 6.188625 - 0.8935547\n",
      "Training: 0.89590967 - 4.691383 - 0.95214844    Validation:  1.2503263 - 4.7250834 - 0.91796875\n",
      "Training: 0.4781052 - 2.4791656 - 0.96777344    Validation:  1.2929513 - 3.4754434 - 0.9091797\n",
      "Training: 0.6022902 - 2.6377711 - 0.9560547    Validation:  1.7331457 - 4.7356415 - 0.8717949\n",
      "Training: 0.5526888 - 2.645986 - 0.9589844    Validation:  1.429619 - 5.438885 - 0.89746094\n",
      "Training: 0.71410114 - 4.115669 - 0.95703125    Validation:  1.6651944 - 4.7191625 - 0.90722656\n",
      "Training: 0.85256726 - 4.0041213 - 0.9316406    Validation:  1.5636181 - 3.9225311 - 0.88964844\n",
      "Training: 0.6691751 - 1.3184183 - 0.8378906    Validation:  1.290094 - 2.442824 - 0.7519531\n",
      "Training: 0.5665856 - 1.0116311 - 0.8457031    Validation:  1.402238 - 2.0583239 - 0.7685547\n",
      "Training: 0.56291425 - 1.0545176 - 0.82910156    Validation:  1.3664184 - 1.9679232 - 0.77734375\n",
      "Training: 0.58309853 - 1.0322444 - 0.8330078    Validation:  1.1084689 - 1.5649543 - 0.78515625\n",
      "Training: 0.66723025 - 1.1623492 - 0.83984375    Validation:  1.4150031 - 2.2944813 - 0.7636719\n",
      "Training: 0.5259086 - 0.9197395 - 0.82714844    Validation:  1.2219535 - 2.181527 - 0.74121094\n",
      "Training: 0.57469994 - 1.0256528 - 0.8154297    Validation:  1.178853 - 1.9007251 - 0.75390625\n",
      "Training: 0.72455955 - 1.319146 - 0.8105469    Validation:  1.2423358 - 2.035102 - 0.7314453\n",
      "Training: 0.63249916 - 1.1462498 - 0.81152344    Validation:  1.3487672 - 2.2683024 - 0.74316406\n",
      "Training: 0.49667436 - 0.7959187 - 0.8076172    Validation:  1.1466194 - 1.9034412 - 0.7402344\n",
      "Training: 0.55061114 - 1.0713792 - 0.8730469    Validation:  1.2188497 - 2.5901294 - 0.80078125\n",
      "Training: 0.7384526 - 1.3509052 - 0.86621094    Validation:  1.3768638 - 2.341985 - 0.8095703\n",
      "Training: 0.83979714 - 1.4456465 - 0.79296875    Validation:  0.73308396 - 1.1944575 - 0.75\n",
      "Training: 0.70725584 - 1.4139243 - 0.8544922    Validation:  1.3910857 - 2.0533376 - 0.8066406\n",
      "Training: 0.7337494 - 1.5573629 - 0.8544922    Validation:  1.6644281 - 3.119951 - 0.796875\n",
      "Training: 0.62430674 - 1.2621114 - 0.8613281    Validation:  1.2644374 - 2.0741122 - 0.8173828\n",
      "Training: 0.7812665 - 1.5458517 - 0.83496094    Validation:  1.0991819 - 1.8944855 - 0.81152344\n",
      "Training: 0.71342534 - 1.5820262 - 0.8535156    Validation:  1.5345086 - 2.1153526 - 0.82421875\n",
      "Training: 0.74395216 - 1.4665254 - 0.85253906    Validation:  1.381973 - 3.1780343 - 0.8095703\n",
      "Training: 0.6298156 - 1.2711456 - 0.8535156    Validation:  1.798633 - 3.1433322 - 0.79003906\n",
      "Training: 0.62509286 - 1.221665 - 0.8535156    Validation:  1.4976197 - 2.5438945 - 0.7988281\n",
      "Training: 1.042835 - 1.8669066 - 0.77441406    Validation:  1.1293898 - 1.7919774 - 0.74316406\n",
      "Training: 0.86207813 - 1.6343414 - 0.8046875    Validation:  1.070476 - 2.0535274 - 0.7675781\n",
      "Training: 0.63142496 - 1.1465551 - 0.84765625    Validation:  1.0313661 - 2.464353 - 0.81152344\n",
      "Training: 0.6800128 - 1.2961534 - 0.8574219    Validation:  1.2101507 - 2.398806 - 0.7988281\n",
      "Training: 0.78730464 - 1.5975162 - 0.8330078    Validation:  1.0794433 - 2.1110775 - 0.7949219\n",
      "Training: 0.68118966 - 1.3342476 - 0.84765625    Validation:  1.3218565 - 2.336306 - 0.8076172\n",
      "Training: 0.5230642 - 1.0016044 - 0.85546875    Validation:  1.436744 - 2.7874043 - 0.80566406\n",
      "Training: 0.9314837 - 1.9633538 - 0.83984375    Validation:  1.0961411 - 2.6129258 - 0.78205127\n",
      "Training: 0.58858025 - 1.047472 - 0.85253906    Validation:  1.5454183 - 2.442707 - 0.7919922\n",
      "Training: 0.5339203 - 1.019975 - 0.84765625    Validation:  1.2470958 - 2.3209414 - 0.7998047\n",
      "Training: 0.92499137 - 1.8421426 - 0.8486328    Validation:  1.4433544 - 2.743547 - 0.796875\n",
      "Training: 0.57637286 - 1.0422937 - 0.85839844    Validation:  1.1531197 - 2.0323648 - 0.8232422\n",
      "Training: 0.5097998 - 0.949536 - 0.8496094    Validation:  1.3584975 - 2.9151387 - 0.7988281\n",
      "Training: 0.6541792 - 1.3088571 - 0.8310547    Validation:  1.4676847 - 2.2722275 - 0.7714844\n",
      "Training: 0.44636726 - 0.75305796 - 0.84765625    Validation:  1.0673275 - 2.4276948 - 0.78125\n",
      "Training: 0.452992 - 0.7765915 - 0.8544922    Validation:  1.0967611 - 1.4160469 - 0.7832031\n",
      "Training: 0.42954046 - 0.72390956 - 0.8300781    Validation:  1.2248474 - 2.084995 - 0.7675781\n",
      "Training: 0.5264683 - 0.9266248 - 0.81933594    Validation:  1.0491549 - 1.6252284 - 0.78125\n",
      "Training: 0.62407684 - 1.1366695 - 0.8154297    Validation:  1.0967342 - 2.753398 - 0.78027344\n",
      "Training: 0.53352326 - 0.9177592 - 0.8173828    Validation:  1.1828406 - 1.8742397 - 0.7714844\n",
      "Training: 0.59229386 - 1.0685439 - 0.81640625    Validation:  1.1793929 - 1.9665985 - 0.75878906\n",
      "Training: 0.73642033 - 1.3969886 - 0.8017578    Validation:  1.205465 - 1.5913825 - 0.75683594\n",
      "Training: 0.53297305 - 0.90210944 - 0.82421875    Validation:  1.0643947 - 1.7031002 - 0.74609375\n",
      "Training: 0.64323765 - 1.1938729 - 0.81347656    Validation:  1.074935 - 1.2389115 - 0.8141026\n",
      "Training: 0.6901353 - 1.2895734 - 0.79785156    Validation:  0.97206104 - 1.6770897 - 0.7578125\n"
     ]
    },
    {
     "name": "stdout",
     "output_type": "stream",
     "text": [
      "Training: 0.56504226 - 1.0376589 - 0.8408203    Validation:  1.0316548 - 1.749004 - 0.7939453\n",
      "Training: 0.4600759 - 0.78477496 - 0.84375    Validation:  1.1063563 - 1.5759966 - 0.7792969\n",
      "Training: 0.65854496 - 1.2023485 - 0.84472656    Validation:  1.5120367 - 2.6744576 - 0.7988281\n",
      "Training: 0.7511383 - 1.4811256 - 0.84765625    Validation:  1.1898412 - 2.0591307 - 0.7998047\n",
      "Training: 0.6356942 - 1.2220738 - 0.8613281    Validation:  1.4651375 - 2.745553 - 0.79589844\n",
      "Training: 0.6573648 - 1.323253 - 0.8652344    Validation:  1.3381411 - 2.3785276 - 0.8076172\n",
      "Training: 0.6051334 - 1.1400869 - 0.8652344    Validation:  1.3763415 - 2.478304 - 0.81640625\n",
      "Training: 0.7065605 - 1.329364 - 0.8466797    Validation:  1.4466317 - 2.6791174 - 0.78125\n",
      "Training: 0.4735658 - 0.88081884 - 0.8642578    Validation:  1.8009439 - 3.9203386 - 0.77441406\n",
      "Training: 0.55803746 - 1.037024 - 0.83496094    Validation:  1.3212345 - 2.1714807 - 0.7832031\n",
      "Training: 0.56517696 - 1.0497038 - 0.84375    Validation:  1.2543544 - 2.1998394 - 0.7783203\n",
      "Training: 0.585025 - 1.0735587 - 0.84375    Validation:  1.3085551 - 2.152218 - 0.79003906\n",
      "Training: 0.4496026 - 0.7089866 - 0.85253906    Validation:  1.394124 - 2.4748507 - 0.7832031\n",
      "Training: 0.5486285 - 1.0529269 - 0.8457031    Validation:  1.3200853 - 2.448976 - 0.80371094\n",
      "Training: 0.5826742 - 0.99395686 - 0.8339844    Validation:  1.4160011 - 2.5820434 - 0.8141026\n",
      "Training: 0.38500062 - 0.5553153 - 0.84472656    Validation:  1.469054 - 3.0392714 - 0.77246094\n",
      "Training: 0.5296692 - 0.92910033 - 0.85058594    Validation:  1.1368953 - 1.8293052 - 0.7919922\n",
      "Training: 0.4736373 - 0.82300377 - 0.84277344    Validation:  1.3736877 - 2.3712006 - 0.7714844\n",
      "Training: 0.6072006 - 1.1379434 - 0.8310547    Validation:  1.109065 - 1.8816274 - 0.7841797\n",
      "Training: 0.58066404 - 1.0037891 - 0.8417969    Validation:  1.2808098 - 2.9176788 - 0.79003906\n",
      "Training: 0.47398493 - 0.8491852 - 0.83691406    Validation:  1.0651057 - 1.7364254 - 0.7792969\n",
      "Training: 0.49544662 - 0.88083386 - 0.8310547    Validation:  1.2282459 - 1.9158684 - 0.78515625\n",
      "Training: 0.49203894 - 0.82950944 - 0.8408203    Validation:  1.1452633 - 2.1170096 - 0.78515625\n",
      "Training: 0.5244376 - 0.98958135 - 0.84277344    Validation:  1.1071846 - 2.3970027 - 0.7861328\n",
      "Training: 0.4612352 - 0.75517553 - 0.828125    Validation:  1.1872514 - 2.1004775 - 0.7832031\n",
      "Training: 0.46217632 - 0.74092335 - 0.8417969    Validation:  1.1734169 - 2.4525523 - 0.7890625\n",
      "Training: 0.5174738 - 0.94924855 - 0.8388672    Validation:  1.234843 - 2.6026776 - 0.76171875\n",
      "Training: 0.4925211 - 0.83670413 - 0.8339844    Validation:  1.1167177 - 1.6064987 - 0.7871094\n",
      "Training: 0.54153174 - 1.0328166 - 0.82910156    Validation:  1.0977256 - 2.3350844 - 0.79589844\n",
      "Training: 0.48149592 - 0.80723435 - 0.828125    Validation:  1.0800734 - 1.6127248 - 0.7910156\n",
      "Training: 0.45008686 - 0.70682955 - 0.8304598    Validation:  0.99406123 - 1.7752447 - 0.78846157\n",
      "Training: 0.48374453 - 0.72746843 - 0.828125    Validation:  1.1812736 - 2.184384 - 0.7714844\n",
      "Training: 0.5730124 - 1.0265657 - 0.8232422    Validation:  1.083844 - 1.821343 - 0.7890625\n",
      "Training: 0.52238375 - 0.8027819 - 0.8144531    Validation:  1.3299898 - 3.416143 - 0.75878906\n",
      "Training: 0.46686834 - 0.71018445 - 0.8359375    Validation:  1.0750616 - 1.5763602 - 0.78027344\n",
      "Training: 0.48239073 - 0.8323274 - 0.8466797    Validation:  1.1939877 - 2.3314023 - 0.7753906\n",
      "Training: 0.5493903 - 0.97802085 - 0.8330078    Validation:  1.1959646 - 2.5475976 - 0.7792969\n",
      "Training: 0.5109459 - 0.8667665 - 0.8203125    Validation:  1.1828616 - 2.3154268 - 0.78027344\n",
      "Training: 0.5408316 - 1.0805135 - 0.8330078    Validation:  0.987145 - 1.5687492 - 0.77441406\n"
     ]
    }
   ],
   "source": [
    "sess = tf.Session()\n",
    "init = tf.global_variables_initializer()\n",
    "sess.run(init)\n",
    "\n",
    "Allentropies = []\n",
    "Allaccuracies = []\n",
    "AllValaccuracies = []\n",
    "Allscaled_errs = []\n",
    "LastSave = 0\n",
    "\n",
    "epochs = 300\n",
    "for i in range(epochs):\n",
    "    count = 0\n",
    "    xVal,yVal = val_it.next()\n",
    "    yVal = getRealLabel(yVal,realLabel)\n",
    "    Valentro, Valsc_err, Valaccu,Valcomp = sess.run([mean_cross_entropy, mean_scaled_error,accuracy, comparison], feed_dict = {visual_in: xVal, labels: yVal})\n",
    "    if i==0:\n",
    "        print('Validation:  '+str(Valentro)+ ' - '+str(Valsc_err)+' - '+str(Valaccu))\n",
    "        AllValaccuracies.append(Valaccu)\n",
    "    else:\n",
    "        print('Training: '+str(np.mean(entropies))+' - '+str(np.mean(scaled_errs))+' - '+str(np.mean(accuracies))+\n",
    "          '    Validation:  '+str(Valentro)+ ' - '+str(Valsc_err)+' - '+str(Valaccu))\n",
    "    \n",
    "    if Valaccu >np.max(AllValaccuracies):\n",
    "        saver.save(sess, \"./Results/TowerTraining/Classifier/Model/model.ckpt\")\n",
    "        print('saved model')\n",
    "        LastSave = i-1\n",
    "    AllValaccuracies.append(Valaccu)\n",
    "    for batchX, batchy in train_it:\n",
    "        batchy = getRealLabel(batchy,realLabel)\n",
    "        entropies = []\n",
    "        accuracies = []\n",
    "        scaled_errs = []\n",
    "        entro, sc_err, accu,comp, _ = sess.run([mean_cross_entropy, mean_scaled_error,accuracy, comparison,training_step], feed_dict = {visual_in: batchX, labels: batchy})\n",
    "        entropies.append(entro)\n",
    "        accuracies.append(accu)\n",
    "        scaled_errs.append(sc_err)\n",
    "        #print(str(entro)+' - '+str(accu))\n",
    "        if count>126:\n",
    "            Allentropies.append(entropies)\n",
    "            Allaccuracies.append(accuracies)\n",
    "            Allscaled_errs.append(scaled_errs)\n",
    "            break\n",
    "        count = count+1\n",
    "    "
   ]
  },
  {
   "cell_type": "markdown",
   "metadata": {},
   "source": [
    "## Plot Performance"
   ]
  },
  {
   "cell_type": "code",
   "execution_count": 18,
   "metadata": {},
   "outputs": [
    {
     "data": {
      "image/png": "[encoded data removed]",
      "text/plain": [
       "<Figure size 432x288 with 1 Axes>"
      ]
     },
     "metadata": {},
     "output_type": "display_data"
    }
   ],
   "source": [
    "plt.figure()\n",
    "plt.plot(np.multiply(Allaccuracies,10))\n",
    "plt.plot(Allentropies)\n",
    "plt.plot(Allscaled_errs)\n",
    "plt.plot(np.multiply(AllValaccuracies,10))\n",
    "plt.show()"
   ]
  },
  {
   "cell_type": "markdown",
   "metadata": {},
   "source": [
    "## Save Statistics"
   ]
  },
  {
   "cell_type": "code",
   "execution_count": 19,
   "metadata": {},
   "outputs": [],
   "source": [
    "np.save(\"./Results/TowerTraining/Classifier/Model/Accs.npy\",Allaccuracies)\n",
    "np.save(\"./Results/TowerTraining/Classifier/Model/Entro.npy\",Allentropies)\n",
    "np.save(\"./Results/TowerTraining/Classifier/Model/Err.npy\",Allscaled_errs)\n",
    "np.save(\"./Results/TowerTraining/Classifier/Model/ValAcc.npy\",AllValaccuracies)"
   ]
  }
 ],
 "metadata": {
  "hide_input": false,
  "kernelspec": {
   "display_name": "Python 3",
   "language": "python",
   "name": "python3"
  },
  "language_info": {
   "codemirror_mode": {
    "name": "ipython",
    "version": 3
   },
   "file_extension": ".py",
   "mimetype": "text/x-python",
   "name": "python",
   "nbconvert_exporter": "python",
   "pygments_lexer": "ipython3",
   "version": "3.6.8"
  },
  "toc": {
   "base_numbering": 1,
   "nav_menu": {},
   "number_sections": true,
   "sideBar": true,
   "skip_h1_title": false,
   "title_cell": "Table of Contents",
   "title_sidebar": "Contents",
   "toc_cell": false,
   "toc_position": {},
   "toc_section_display": true,
   "toc_window_display": false
  },
  "varInspector": {
   "cols": {
    "lenName": 16,
    "lenType": 16,
    "lenVar": 40
   },
   "kernels_config": {
    "python": {
     "delete_cmd_postfix": "",
     "delete_cmd_prefix": "del ",
     "library": "var_list.py",
     "varRefreshCmd": "print(var_dic_list())"
    },
    "r": {
     "delete_cmd_postfix": ") ",
     "delete_cmd_prefix": "rm(",
     "library": "var_list.r",
     "varRefreshCmd": "cat(var_dic_list()) "
    }
   },
   "position": {
    "height": "227.85px",
    "left": "1230px",
    "right": "20px",
    "top": "120px",
    "width": "350px"
   },
   "types_to_exclude": [
    "module",
    "function",
    "builtin_function_or_method",
    "instance",
    "_Feature"
   ],
   "window_display": false
  }
 },
 "nbformat": 4,
 "nbformat_minor": 2
}
